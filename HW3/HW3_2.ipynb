{
 "cells": [
  {
   "cell_type": "code",
   "execution_count": 23,
   "metadata": {},
   "outputs": [
    {
     "data": {
      "text/plain": [
       "['xdata', 'ydata']"
      ]
     },
     "execution_count": 23,
     "metadata": {},
     "output_type": "execute_result"
    }
   ],
   "source": [
    "import h5py \n",
    "import numpy as np\n",
    "import tensorflow as tf\n",
    "from sklearn.model_selection import train_test_split\n",
    "import matplotlib.pyplot as plt\n",
    "\n",
    "\n",
    "f = h5py.File('mnist_traindata.hdf5','r') \n",
    "#f=h5py.File('mnist_network_params.hdf5','r')\n",
    "list(f.keys())\n",
    "#list(f1.keys())"
   ]
  },
  {
   "cell_type": "code",
   "execution_count": 24,
   "metadata": {},
   "outputs": [],
   "source": [
    "xdata=f['xdata']\n",
    "ydata=f['ydata']\n",
    "xdata=np.array(xdata)\n",
    "ydata=np.array(ydata)\n",
    "xtrain,xval,ytrain,yval=train_test_split(xdata,ydata,test_size=0.16666)"
   ]
  },
  {
   "cell_type": "code",
   "execution_count": 25,
   "metadata": {},
   "outputs": [],
   "source": [
    "def relu(x):\n",
    "    return np.maximum(x, 0)"
   ]
  },
  {
   "cell_type": "code",
   "execution_count": 26,
   "metadata": {},
   "outputs": [],
   "source": [
    "def relu_derivative(x):\n",
    "    a=np.zeros((x.shape[0],x.shape[1]),float)\n",
    "    for i in range(0,x.shape[0]):\n",
    "        for j in range (0,x.shape[1]):\n",
    "            if x[i,j]>0:\n",
    "                a[i,j]=1\n",
    "            elif x[i,j]==0:\n",
    "                a[i,j]=np.random.uniform(0,1)\n",
    "            else:\n",
    "                a[i,j]=0\n",
    "    return a"
   ]
  },
  {
   "cell_type": "code",
   "execution_count": 27,
   "metadata": {},
   "outputs": [],
   "source": [
    "def tanh(x):\n",
    " #   if x>100:\n",
    "  #      x=100\n",
    "   # if x<-100:\n",
    "    #    x=-100\n",
    "    a=np.exp(x)\n",
    "    b=np.exp(-x)\n",
    "    y=(a-b)/(a+b)    \n",
    "    return y"
   ]
  },
  {
   "cell_type": "code",
   "execution_count": 28,
   "metadata": {},
   "outputs": [],
   "source": [
    "def tanh_derivative(x):\n",
    "    a=np.exp(x)\n",
    "    b=np.exp(-x)\n",
    "    c=4/(a+b)\n",
    "    return c"
   ]
  },
  {
   "cell_type": "code",
   "execution_count": 29,
   "metadata": {},
   "outputs": [],
   "source": [
    "def Softmax(x):\n",
    "    exp_scores = np.exp(x)\n",
    "    out = exp_scores / np.sum(exp_scores, axis=1, keepdims=True)\n",
    "    return out"
   ]
  },
  {
   "cell_type": "code",
   "execution_count": 30,
   "metadata": {},
   "outputs": [],
   "source": [
    "def build_model(x,hidden_layers,hidden_nodes,output_dim=10): #could be 1 or 2 hiden layers\n",
    "    model = {}\n",
    "    input_dim = x.shape[1]\n",
    "    if hidden_layers==1:\n",
    "        model['hidden_layers']=1\n",
    "        model['w1'] = np.random.randn(input_dim, hidden_nodes[0]) / np.sqrt(input_dim)\n",
    "        model['b1'] = np.zeros((1, hidden_nodes[0]))\n",
    "        model['w2'] = np.random.randn(hidden_nodes[0], output_dim) / np.sqrt(hidden_nodes)\n",
    "        model['b2'] = np.zeros((1, output_dim))\n",
    "    if hidden_layers==2:\n",
    "        model['hidden_layers']=2\n",
    "        model['w1'] = np.random.randn(input_dim, hidden_nodes[0]) / np.sqrt(input_dim)\n",
    "        model['b1'] = np.zeros((1, hidden_nodes[0]))\n",
    "        model['w2'] = np.random.randn(hidden_nodes[0], hidden_nodes[1]) / np.sqrt(hidden_nodes[0])\n",
    "        model['b2'] = np.zeros((1, hidden_nodes[1]))    \n",
    "        model['w3'] = np.random.randn(hidden_nodes[1], output_dim) / np.sqrt(hidden_nodes[1])\n",
    "        model['b3'] = np.zeros((1, output_dim))        \n",
    "    return model"
   ]
  },
  {
   "cell_type": "code",
   "execution_count": 31,
   "metadata": {},
   "outputs": [],
   "source": [
    "def feed_forward_relu(model,x):\n",
    "    hidden_layers, w1, b1, w2, b2 =model['hidden_layers'], model['w1'], model['b1'], model['w2'], model['b2']\n",
    "    if hidden_layers==1:\n",
    "        z1 = x.dot(w1) + b1\n",
    "        a1 = relu(z1)\n",
    "        z2 = a1.dot(w2) + b2\n",
    "        out=  Softmax(z2)\n",
    "        return z1,a1,z2,out\n",
    "    if hidden_layers==2:\n",
    "        w3,b3=model['w3'], model['b3']\n",
    "        z1 = x.dot(w1) + b1\n",
    "        a1 = relu(z1)\n",
    "        z2 = a1.dot(w2) + b2\n",
    "        a2 = relu(z2)\n",
    "        z3 = a2.dot(w3) + b3\n",
    "        out = Softmax(z3)\n",
    "        return z1,a1,z2,a2,z3,out"
   ]
  },
  {
   "cell_type": "code",
   "execution_count": 32,
   "metadata": {},
   "outputs": [],
   "source": [
    "def feed_forward_tanh(model,x):\n",
    "    hidden_layers, w1, b1, w2, b2 =model['hidden_layers'], model['w1'], model['b1'], model['w2'], model['b2']\n",
    "    if hidden_layers==1:\n",
    "        z1 = x.dot(w1) + b1\n",
    "        a1 = tanh(z1)\n",
    "        z2 = a1.dot(w2) + b2\n",
    "        out= Softmax(z2)\n",
    "        return z1,a1,z2,out\n",
    "    if hidden_layers==2:\n",
    "        w3,b3=model['w3'], model['b3']\n",
    "        z1 = x.dot(w1) + b1\n",
    "        a1 = tanh(z1)\n",
    "        z2 = a1.dot(w2) + b2\n",
    "        a2 = tanh(z2)\n",
    "        z3 = a2.dot(w3) + b3\n",
    "        out = Softmax(z3)\n",
    "        return z1,a1,z2,a2,z3,out"
   ]
  },
  {
   "cell_type": "code",
   "execution_count": 33,
   "metadata": {},
   "outputs": [],
   "source": [
    "def cost_entropy(xtrain,ytrain):  #input xtrain and ytrain,output cost for each data\n",
    "######################################   \n",
    "    out=feed_forward_relu(model,xtrain)\n",
    "   # out=feed_forward_tanh(model,xtrain)\n",
    "########################################\n",
    "    cost=out[-1]*ytrain\n",
    "    c=cost.max(axis=1)\n",
    "    cost_entropy=np.log(c)\n",
    "    return cost_entropy"
   ]
  },
  {
   "cell_type": "code",
   "execution_count": 34,
   "metadata": {},
   "outputs": [],
   "source": [
    "def backprop(x,y,model,forward_output):   #suppose 1 hidden layer is 20 nodes, 3 layer:  784-20-10, choose 50 data in one batch\n",
    "# Wa+b  is a (50*20)*(20*10)+1*10 ---> get 50*10   output as a, will be 50*784 --50*20 --50*10 --\n",
    "    hidden_layers=model['hidden_layers']\n",
    "    n=x.shape[0]\n",
    "    a1=forward_output[1]\n",
    "    if hidden_layers==1:\n",
    "        delta3 = forward_output[-1]-y    # delta3 is 50*10 (n data*predt_error)\n",
    "        dw2 = (a1.T).dot(delta3)/n         # dw2 is same as w2, 20*10,  a1=20*1, \n",
    "        db2 = np.sum(delta3, axis=0, keepdims=True)/n #db2 is same as b2, 1*10\n",
    "#################################################\n",
    "       # delta2 = delta3.dot(model['w2'].T) * tanh_derivative(a1) #if tanh\n",
    "        delta2 = delta3.dot(model['w2'].T) * relu_derivative(a1) #if ReLU\n",
    "################################################\n",
    "        dw1 = np.dot(x.T, delta2)/n\n",
    "        db1 = np.sum(delta2, axis=0)/n\n",
    "        return dw1, dw2, db1, db2\n",
    "    if hidden_layers==2:\n",
    "        a2=forward_output[3]\n",
    "        delta3 = forward_output[-1]-y\n",
    "        dw3 = (a2.T).dot(delta3)/n\n",
    "        db3 = np.sum(delta3, axis=0, keepdims=True)/n\n",
    "#####################################################\n",
    "      #  delta2 = delta3.dot(model['w3'].T) * tanh_derivative(a2) #if tanh\n",
    "        delta2 = delta3.dot(model['w3'].T) * relu_derivative(a2) #if ReLU\n",
    "#####################################################\n",
    "        dw2 = np.dot(a1.T, delta2)/n\n",
    "        db2 = np.sum(delta2, axis=0)/n\n",
    "#####################################################\n",
    "      #  delta1 = delta2.dot(model['w2'].T) * tanh_derivative(a1) #if tanh\n",
    "        delta1 = delta2.dot(model['w2'].T) * relu_derivative(a1) #if ReLU\n",
    "#####################################################\n",
    "        dw1 = np.dot(x.T, delta1)/n\n",
    "        db1 = np.sum(delta1, axis=0)/n\n",
    "        return dw1, dw2, dw3,db1,db2,db3"
   ]
  },
  {
   "cell_type": "code",
   "execution_count": 35,
   "metadata": {},
   "outputs": [],
   "source": [
    "def train(x_train,y_train,x_val,y_val,model,lr=0.1,n_epoch=50,n_batch=50):\n",
    "    # Batch gradient descent\n",
    "    x=x_train\n",
    "    y=y_train\n",
    "#    n_epoch=100\n",
    "#   n_batch=50  # define batch and epoch number\n",
    "    n_update=int(x.shape[0]/n_batch)\n",
    "    acu_val=np.zeros((n_epoch,1),float)\n",
    "    acu_train=np.zeros((n_epoch,1),float)\n",
    "    for j in range (0,n_epoch):\n",
    "        if j==20:\n",
    "            lr=lr/2\n",
    "        if j==40:\n",
    "            lr=lr/2\n",
    "        xtrain,xval,ytrain,yval=train_test_split(x,y,test_size=0)  #shuffle x,y into xtrain,ytrain \n",
    "        for i in range (0,n_update):    \n",
    "            x_batch=xtrain[i*50:i*50+50,:]\n",
    "            y_batch=ytrain[i*50:i*50+50,:]\n",
    "            #feed forward\n",
    "#####################################################\n",
    "            out_forward = feed_forward_relu(model, x_batch)\n",
    "          #  out_forward = feed_forward_tanh(model, x_batch)\n",
    "#####################################################\n",
    "            #backpropagation\n",
    "            #out_back = backprop(x_batch,y_batch,model,out_forward)  \n",
    "            #update weights and biases\n",
    "            if model['hidden_layers']==1:\n",
    "                #backpropagation\n",
    "                dw1, dw2, db1, db2= backprop(x_batch,y_batch,model,out_forward) # remember to change function in backprop\n",
    "                model['w1'] =  model['w1']-lr * dw1\n",
    "                model['b1'] =  model['b1']-lr * db1\n",
    "                model['w2'] =  model['w2']-lr * dw2\n",
    "                model['b2'] =  model['b2']-lr * db2\n",
    "            if model['hidden_layers']==2:\n",
    "                 #backpropagation\n",
    "                dw1, dw2, dw3,db1,db2,db3= backprop(x_batch,y_batch,model,out_forward)  # remember to change function in backprop          \n",
    "                model['w1'] =  model['w1']-lr * dw1\n",
    "                model['b1'] =  model['b1']-lr * db1\n",
    "                model['w2'] =  model['w2']-lr * dw2\n",
    "                model['b2'] =  model['b2']-lr * db2\n",
    "                model['w3'] =  model['w3']-lr * dw3\n",
    "                model['b3'] =  model['b3']-lr * db3\n",
    "        ytrain_pred=pred(model,xtrain)\n",
    "        acu_train[j,0]=accuracy(ytrain_pred,ytrain)\n",
    "        yval_pred=pred(model,x_val)\n",
    "        acu_val[j,0]=accuracy(yval_pred,y_val)    \n",
    "        print (\"accuracy after %i iteration: %f train, %f validation  \" %(j, acu_train[j,0],acu_val[j,0]))  #uncomment once testing finished\n",
    "    model['acu_train']=acu_train\n",
    "    model['acu_val']=acu_val\n",
    "    print (\"finish training\")\n",
    "    return model"
   ]
  },
  {
   "cell_type": "code",
   "execution_count": 36,
   "metadata": {},
   "outputs": [],
   "source": [
    "def pred(model,x):\n",
    "    n_iter=x.shape[0]\n",
    "    pred_label=np.zeros((n_iter,10),float)\n",
    "#####################################################\n",
    "    out=feed_forward_relu(model, x)\n",
    "   # out=feed_forward_tanh(model, x)\n",
    "#####################################################\n",
    "    pred_prob=out[-1]\n",
    "    for i in range (0,n_iter):\n",
    "        label=np.where(pred_prob[i,:]==np.max(pred_prob[i,:]))   # find label for each predict data\n",
    "        pred_label[i,label[0]]=1        \n",
    "    return pred_label"
   ]
  },
  {
   "cell_type": "code",
   "execution_count": 37,
   "metadata": {},
   "outputs": [],
   "source": [
    "def accuracy(ypred,ytrue):\n",
    "    n_error=0\n",
    "    for i in range (0,ypred.shape[0]):\n",
    "        n=ypred[i,:].dot(ytrue[i,:])\n",
    "        if n==0:\n",
    "            n_error=n_error+1    \n",
    "    accuracy=1-n_error/ypred.shape[0]\n",
    "    return accuracy"
   ]
  },
  {
   "cell_type": "code",
   "execution_count": 38,
   "metadata": {},
   "outputs": [
    {
     "name": "stdout",
     "output_type": "stream",
     "text": [
      "accuracy after 0 iteration: 0.922420 train, 0.915200 validation  \n",
      "accuracy after 1 iteration: 0.944260 train, 0.936600 validation  \n",
      "accuracy after 2 iteration: 0.954900 train, 0.944600 validation  \n",
      "accuracy after 3 iteration: 0.966000 train, 0.955500 validation  \n",
      "accuracy after 4 iteration: 0.971120 train, 0.960200 validation  \n",
      "accuracy after 5 iteration: 0.975280 train, 0.962700 validation  \n",
      "accuracy after 6 iteration: 0.979880 train, 0.966900 validation  \n",
      "accuracy after 7 iteration: 0.981780 train, 0.965800 validation  \n",
      "accuracy after 8 iteration: 0.984840 train, 0.970700 validation  \n",
      "accuracy after 9 iteration: 0.987500 train, 0.970200 validation  \n",
      "accuracy after 10 iteration: 0.988280 train, 0.971100 validation  \n",
      "accuracy after 11 iteration: 0.990800 train, 0.971700 validation  \n",
      "accuracy after 12 iteration: 0.991900 train, 0.972800 validation  \n",
      "accuracy after 13 iteration: 0.991620 train, 0.973300 validation  \n",
      "accuracy after 14 iteration: 0.993900 train, 0.974000 validation  \n",
      "accuracy after 15 iteration: 0.990920 train, 0.970400 validation  \n",
      "accuracy after 16 iteration: 0.995460 train, 0.973300 validation  \n",
      "accuracy after 17 iteration: 0.994000 train, 0.972500 validation  \n",
      "accuracy after 18 iteration: 0.997120 train, 0.975200 validation  \n",
      "accuracy after 19 iteration: 0.998120 train, 0.975600 validation  \n",
      "accuracy after 20 iteration: 0.998940 train, 0.976000 validation  \n",
      "accuracy after 21 iteration: 0.999000 train, 0.975800 validation  \n",
      "accuracy after 22 iteration: 0.999180 train, 0.976200 validation  \n",
      "accuracy after 23 iteration: 0.999140 train, 0.976600 validation  \n",
      "accuracy after 24 iteration: 0.999280 train, 0.976000 validation  \n",
      "finish training\n"
     ]
    }
   ],
   "source": [
    "\n",
    "    # initiate model, with 2 hidden layers [400,70]\n",
    "model1=build_model(xtrain,hidden_layers=2,hidden_nodes=[400,70],output_dim=10)  \n",
    "    #train model, get model parameter and accuracy in each epoch\n",
    "model1=train(xtrain,ytrain,xval,yval,model1,lr=0.05,n_epoch=25,n_batch=50)   # learning rate should less than 0.05\n",
    "    \n"
   ]
  },
  {
   "cell_type": "code",
   "execution_count": 42,
   "metadata": {},
   "outputs": [
    {
     "data": {
      "image/png": "[encoded data removed]",
      "text/plain": [
       "<Figure size 432x288 with 1 Axes>"
      ]
     },
     "metadata": {
      "needs_background": "light"
     },
     "output_type": "display_data"
    }
   ],
   "source": [
    "acu_val_3=model1['acu_val']\n",
    "acu_train_3=model1['acu_train']\n",
    "\n",
    "fig, ax = plt.subplots()\n",
    "ax.plot(acu_val_3,'r',label='validation')\n",
    "#ax.legend((acu_val, acu_train), ('val', 'train'))\n",
    "ax.plot(acu_train_3,'b',label='training')\n",
    "#ax.legend((acu_val, acu_train), ('val', 'train'))\n",
    "\n",
    "ax.set(xlabel='number of training epoch', ylabel='predict accuracy',\n",
    "       title='test vs. validation accuracy (lr=0.1,relu) with different number of epoch')\n",
    "ax.grid()\n",
    "ax.legend()\n",
    "\n",
    "fig.savefig(\"0.1_relu.png\")\n",
    "plt.show()"
   ]
  },
  {
   "cell_type": "code",
   "execution_count": 43,
   "metadata": {},
   "outputs": [
    {
     "name": "stdout",
     "output_type": "stream",
     "text": [
      "0.9954\n"
     ]
    }
   ],
   "source": [
    "ypred=pred(model1,xdata)\n",
    "acc=accuracy(ypred,ydata)\n",
    "print(acc)"
   ]
  },
  {
   "cell_type": "code",
   "execution_count": 136,
   "metadata": {},
   "outputs": [],
   "source": [
    "w1=model1['w1']\n",
    "w2=model1['w2']\n",
    "w3=model1['w3']\n",
    "b1=model1['b1']\n",
    "b2=model1['b2']\n",
    "b3=model1['b3']"
   ]
  },
  {
   "cell_type": "code",
   "execution_count": 86,
   "metadata": {},
   "outputs": [
    {
     "name": "stdout",
     "output_type": "stream",
     "text": [
      "[[-0.03234209 -0.01110947 -0.00906723 ...  0.01037302  0.08558077\n",
      "   0.06338536]\n",
      " [ 0.0514316  -0.03506166  0.08083081 ... -0.01749073 -0.01614734\n",
      "  -0.01323596]\n",
      " [-0.01341629  0.0401466   0.07713065 ... -0.038416    0.0029892\n",
      "  -0.01230262]\n",
      " ...\n",
      " [-0.01018357 -0.0055309   0.03711586 ... -0.00584602 -0.00782127\n",
      "   0.00780277]\n",
      " [ 0.01910602 -0.07761323 -0.00073537 ... -0.06878197 -0.04030112\n",
      "  -0.038716  ]\n",
      " [ 0.02872029 -0.02348643 -0.00955517 ...  0.08234244 -0.02768178\n",
      "   0.01506031]]\n"
     ]
    }
   ],
   "source": [
    "print(w1)"
   ]
  },
  {
   "cell_type": "code",
   "execution_count": 119,
   "metadata": {},
   "outputs": [],
   "source": []
  },
  {
   "cell_type": "code",
   "execution_count": 135,
   "metadata": {},
   "outputs": [],
   "source": [
    "f.close()"
   ]
  },
  {
   "cell_type": "code",
   "execution_count": 137,
   "metadata": {},
   "outputs": [],
   "source": [
    "f=h5py.File('my_P2model.hdf5','w')\n",
    "f.create_dataset('w1',data=w1.T)\n",
    "f.create_dataset('w2',data=w2.T)\n",
    "f.create_dataset('w3',data=w3.T)\n",
    "f.create_dataset('b1',data=b1.reshape(400,))\n",
    "f.create_dataset('b2',data=b2.reshape(70,))\n",
    "f.create_dataset('b3',data=b3.reshape(10,))\n",
    "f.attrs['act'] = np.string_(\"relu\")\n",
    "f.close()"
   ]
  },
  {
   "cell_type": "code",
   "execution_count": 133,
   "metadata": {},
   "outputs": [
    {
     "ename": "ValueError",
     "evalue": "Not a location (invalid object ID)",
     "output_type": "error",
     "traceback": [
      "\u001b[1;31m---------------------------------------------------------------------------\u001b[0m",
      "\u001b[1;31mValueError\u001b[0m                                Traceback (most recent call last)",
      "\u001b[1;32m<ipython-input-133-048946ec01b2>\u001b[0m in \u001b[0;36m<module>\u001b[1;34m\u001b[0m\n\u001b[0;32m      2\u001b[0m \u001b[0mlist\u001b[0m\u001b[1;33m(\u001b[0m\u001b[0ml\u001b[0m\u001b[1;33m.\u001b[0m\u001b[0mkeys\u001b[0m\u001b[1;33m(\u001b[0m\u001b[1;33m)\u001b[0m\u001b[1;33m)\u001b[0m\u001b[1;33m\u001b[0m\u001b[1;33m\u001b[0m\u001b[0m\n\u001b[0;32m      3\u001b[0m \u001b[0ml\u001b[0m\u001b[1;33m.\u001b[0m\u001b[0mclose\u001b[0m\u001b[1;33m(\u001b[0m\u001b[1;33m)\u001b[0m\u001b[1;33m\u001b[0m\u001b[1;33m\u001b[0m\u001b[0m\n\u001b[1;32m----> 4\u001b[1;33m \u001b[0mc1\u001b[0m\u001b[1;33m=\u001b[0m\u001b[0ml\u001b[0m\u001b[1;33m[\u001b[0m\u001b[1;34m'b2'\u001b[0m\u001b[1;33m]\u001b[0m\u001b[1;33m\u001b[0m\u001b[1;33m\u001b[0m\u001b[0m\n\u001b[0m\u001b[0;32m      5\u001b[0m \u001b[0mprint\u001b[0m\u001b[1;33m(\u001b[0m\u001b[0mc1\u001b[0m\u001b[1;33m)\u001b[0m\u001b[1;33m\u001b[0m\u001b[1;33m\u001b[0m\u001b[0m\n",
      "\u001b[1;32mh5py\\_objects.pyx\u001b[0m in \u001b[0;36mh5py._objects.with_phil.wrapper\u001b[1;34m()\u001b[0m\n",
      "\u001b[1;32mh5py\\_objects.pyx\u001b[0m in \u001b[0;36mh5py._objects.with_phil.wrapper\u001b[1;34m()\u001b[0m\n",
      "\u001b[1;32mD:\\Anaconda\\envs\\test_env_3.7\\lib\\site-packages\\h5py\\_hl\\group.py\u001b[0m in \u001b[0;36m__getitem__\u001b[1;34m(self, name)\u001b[0m\n\u001b[0;32m    260\u001b[0m                 \u001b[1;32mraise\u001b[0m \u001b[0mValueError\u001b[0m\u001b[1;33m(\u001b[0m\u001b[1;34m\"Invalid HDF5 object reference\"\u001b[0m\u001b[1;33m)\u001b[0m\u001b[1;33m\u001b[0m\u001b[1;33m\u001b[0m\u001b[0m\n\u001b[0;32m    261\u001b[0m         \u001b[1;32melse\u001b[0m\u001b[1;33m:\u001b[0m\u001b[1;33m\u001b[0m\u001b[1;33m\u001b[0m\u001b[0m\n\u001b[1;32m--> 262\u001b[1;33m             \u001b[0moid\u001b[0m \u001b[1;33m=\u001b[0m \u001b[0mh5o\u001b[0m\u001b[1;33m.\u001b[0m\u001b[0mopen\u001b[0m\u001b[1;33m(\u001b[0m\u001b[0mself\u001b[0m\u001b[1;33m.\u001b[0m\u001b[0mid\u001b[0m\u001b[1;33m,\u001b[0m \u001b[0mself\u001b[0m\u001b[1;33m.\u001b[0m\u001b[0m_e\u001b[0m\u001b[1;33m(\u001b[0m\u001b[0mname\u001b[0m\u001b[1;33m)\u001b[0m\u001b[1;33m,\u001b[0m \u001b[0mlapl\u001b[0m\u001b[1;33m=\u001b[0m\u001b[0mself\u001b[0m\u001b[1;33m.\u001b[0m\u001b[0m_lapl\u001b[0m\u001b[1;33m)\u001b[0m\u001b[1;33m\u001b[0m\u001b[1;33m\u001b[0m\u001b[0m\n\u001b[0m\u001b[0;32m    263\u001b[0m \u001b[1;33m\u001b[0m\u001b[0m\n\u001b[0;32m    264\u001b[0m         \u001b[0motype\u001b[0m \u001b[1;33m=\u001b[0m \u001b[0mh5i\u001b[0m\u001b[1;33m.\u001b[0m\u001b[0mget_type\u001b[0m\u001b[1;33m(\u001b[0m\u001b[0moid\u001b[0m\u001b[1;33m)\u001b[0m\u001b[1;33m\u001b[0m\u001b[1;33m\u001b[0m\u001b[0m\n",
      "\u001b[1;32mh5py\\_objects.pyx\u001b[0m in \u001b[0;36mh5py._objects.with_phil.wrapper\u001b[1;34m()\u001b[0m\n",
      "\u001b[1;32mh5py\\_objects.pyx\u001b[0m in \u001b[0;36mh5py._objects.with_phil.wrapper\u001b[1;34m()\u001b[0m\n",
      "\u001b[1;32mh5py\\h5o.pyx\u001b[0m in \u001b[0;36mh5py.h5o.open\u001b[1;34m()\u001b[0m\n",
      "\u001b[1;31mValueError\u001b[0m: Not a location (invalid object ID)"
     ]
    }
   ],
   "source": [
    "l=h5py.File('my_P2model.hdf5','r')\n",
    "list(l.keys())\n",
    "l.close()\n",
    "c1=l['b2']\n",
    "print(c1)"
   ]
  },
  {
   "cell_type": "code",
   "execution_count": 134,
   "metadata": {},
   "outputs": [],
   "source": [
    "l.close()"
   ]
  }
 ],
 "metadata": {
  "kernelspec": {
   "display_name": "Python 3",
   "language": "python",
   "name": "python3"
  },
  "language_info": {
   "codemirror_mode": {
    "name": "ipython",
    "version": 3
   },
   "file_extension": ".py",
   "mimetype": "text/x-python",
   "name": "python",
   "nbconvert_exporter": "python",
   "pygments_lexer": "ipython3",
   "version": "3.6.8"
  }
 },
 "nbformat": 4,
 "nbformat_minor": 2
}
