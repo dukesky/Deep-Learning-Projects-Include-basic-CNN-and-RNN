{
 "cells": [
  {
   "cell_type": "code",
   "execution_count": 1,
   "metadata": {},
   "outputs": [
    {
     "name": "stderr",
     "output_type": "stream",
     "text": [
      "Using TensorFlow backend.\n"
     ]
    }
   ],
   "source": [
    "from keras.layers import Input, Dense\n",
    "from keras.models import Model\n",
    "import h5py\n",
    "import sys,pdb\n",
    "import numpy as np\n",
    "from sklearn.utils import shuffle"
   ]
  },
  {
   "cell_type": "code",
   "execution_count": 2,
   "metadata": {},
   "outputs": [
    {
     "name": "stdout",
     "output_type": "stream",
     "text": [
      "keys of the dataset:  ['xdata', 'ydata']\n",
      "(10000, 784) [[0. 0. 0. ... 1. 0. 0.]\n",
      " [0. 0. 1. ... 0. 0. 0.]\n",
      " [0. 1. 0. ... 0. 0. 0.]\n",
      " ...\n",
      " [0. 0. 0. ... 0. 0. 0.]\n",
      " [0. 0. 0. ... 0. 0. 0.]\n",
      " [0. 0. 0. ... 0. 0. 0.]]\n",
      "7000 train samples\n",
      "3000 test samples\n"
     ]
    }
   ],
   "source": [
    "f = h5py.File('mnist_testdata.hdf5', 'r') #small dataset, assume this our full data\n",
    "print('keys of the dataset: ', list(f.keys())) #useful for seeing the data set name/key\n",
    "data = f['xdata'][:]\n",
    "labels = f['ydata'][:]\n",
    "print(data.shape, labels)\n",
    "data,labels = shuffle(data, labels)\n",
    "\n",
    "split=7000\n",
    "x_train = data[:split, ...]\n",
    "x_test = data[split:,...]\n",
    "y_train = labels[:split,...]\n",
    "y_test = labels[split:,...]\n",
    "print(x_train.shape[0], 'train samples')\n",
    "print(x_test.shape[0], 'test samples')"
   ]
  },
  {
   "cell_type": "code",
   "execution_count": 3,
   "metadata": {},
   "outputs": [],
   "source": [
    "# Define a functional API model\n",
    "# Layer 1:                  784 * 32\n",
    "# Activation 1:             relu\n",
    "# Layer 2:                  32 * 10\n",
    "# Activation 2:             softmax\n",
    "############################################################\n",
    "# This returns a tensor\n",
    "inputs = Input(shape=(784,))\n",
    "\n",
    "# a layer instance is callable on a tensor, and returns a tensor\n",
    "x = Dense(32, activation='relu')(inputs)\n",
    "x = Dense(64, activation='relu')(x)\n",
    "predictions = Dense(10, activation='softmax')(x)\n",
    "\n",
    "# This creates a model that includes\n",
    "# the Input layer and three Dense layers\n",
    "model = Model(inputs=inputs, outputs=predictions)\n"
   ]
  },
  {
   "cell_type": "code",
   "execution_count": 4,
   "metadata": {},
   "outputs": [
    {
     "name": "stdout",
     "output_type": "stream",
     "text": [
      "_________________________________________________________________\n",
      "Layer (type)                 Output Shape              Param #   \n",
      "=================================================================\n",
      "input_1 (InputLayer)         (None, 784)               0         \n",
      "_________________________________________________________________\n",
      "dense_1 (Dense)              (None, 32)                25120     \n",
      "_________________________________________________________________\n",
      "dense_2 (Dense)              (None, 64)                2112      \n",
      "_________________________________________________________________\n",
      "dense_3 (Dense)              (None, 10)                650       \n",
      "=================================================================\n",
      "Total params: 27,882\n",
      "Trainable params: 27,882\n",
      "Non-trainable params: 0\n",
      "_________________________________________________________________\n",
      "None\n"
     ]
    }
   ],
   "source": [
    "print(model.summary())\n",
    "\n",
    "\n",
    "############################################################\n",
    "# Model compilation\n",
    "# Must be called before starting training\n",
    "############################################################\n",
    "# For a multi-class classification problem\n",
    "model.compile(optimizer='sgd',\n",
    "              loss='categorical_crossentropy',\n",
    "              metrics=['accuracy'])"
   ]
  },
  {
   "cell_type": "code",
   "execution_count": 5,
   "metadata": {},
   "outputs": [
    {
     "name": "stdout",
     "output_type": "stream",
     "text": [
      "Epoch 1/10\n",
      "7000/7000 [==============================] - 19s 3ms/step - loss: 1.9348 - acc: 0.3731\n",
      "Epoch 2/10\n",
      "7000/7000 [==============================] - 1s 147us/step - loss: 1.0568 - acc: 0.7277\n",
      "Epoch 3/10\n",
      "7000/7000 [==============================] - 1s 149us/step - loss: 0.6641 - acc: 0.8264\n",
      "Epoch 4/10\n",
      "7000/7000 [==============================] - 1s 149us/step - loss: 0.5157 - acc: 0.8589\n",
      "Epoch 5/10\n",
      "7000/7000 [==============================] - 1s 148us/step - loss: 0.4375 - acc: 0.8794\n",
      "Epoch 6/10\n",
      "7000/7000 [==============================] - 1s 145us/step - loss: 0.3898 - acc: 0.8933\n",
      "Epoch 7/10\n",
      "7000/7000 [==============================] - 1s 149us/step - loss: 0.3560 - acc: 0.8986\n",
      "Epoch 8/10\n",
      "7000/7000 [==============================] - 1s 141us/step - loss: 0.3322 - acc: 0.9047\n",
      "Epoch 9/10\n",
      "7000/7000 [==============================] - 1s 155us/step - loss: 0.3127 - acc: 0.9103\n",
      "Epoch 10/10\n",
      "7000/7000 [==============================] - 1s 145us/step - loss: 0.2977 - acc: 0.9143\n"
     ]
    },
    {
     "data": {
      "text/plain": [
       "<keras.callbacks.History at 0x16040b85278>"
      ]
     },
     "execution_count": 5,
     "metadata": {},
     "output_type": "execute_result"
    }
   ],
   "source": [
    "# Model training\n",
    "############################################################\n",
    "# if y_train is not categorical, you may use this \n",
    "# or, write your own code to convert\n",
    "#one_hot_labels = keras.utils.to_categorical(labels, num_classes=10)\n",
    "\n",
    "model.fit(x_train, y_train, epochs=10, batch_size=32)"
   ]
  },
  {
   "cell_type": "code",
   "execution_count": 6,
   "metadata": {},
   "outputs": [
    {
     "name": "stdout",
     "output_type": "stream",
     "text": [
      "3000/3000 [==============================] - 0s 74us/step\n",
      "Test Loss =  0.32823279345035555\n",
      "Test Accuracy =  0.9043333333333333\n"
     ]
    }
   ],
   "source": [
    "score = model.evaluate(x_test, y_test, batch_size=32)\n",
    "print('Test Loss = ', score[0])\n",
    "print('Test Accuracy = ', score[1])"
   ]
  },
  {
   "cell_type": "code",
   "execution_count": null,
   "metadata": {},
   "outputs": [],
   "source": []
  }
 ],
 "metadata": {
  "kernelspec": {
   "display_name": "Python 3",
   "language": "python",
   "name": "python3"
  },
  "language_info": {
   "codemirror_mode": {
    "name": "ipython",
    "version": 3
   },
   "file_extension": ".py",
   "mimetype": "text/x-python",
   "name": "python",
   "nbconvert_exporter": "python",
   "pygments_lexer": "ipython3",
   "version": "3.6.8"
  }
 },
 "nbformat": 4,
 "nbformat_minor": 2
}
