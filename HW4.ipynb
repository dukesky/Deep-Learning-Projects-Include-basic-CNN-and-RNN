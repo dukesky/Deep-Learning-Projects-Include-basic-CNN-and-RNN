{
 "cells": [
  {
   "cell_type": "code",
   "execution_count": 171,
   "metadata": {},
   "outputs": [],
   "source": [
    "import numpy as np\n",
    "import pandas as dp\n",
    "import matplotlib.pyplot as plt\n",
    "from matplotlib import ticker\n",
    "import seaborn as sns\n",
    "import os,random\n",
    "import cv2\n",
    "import csv\n",
    "\n",
    "from sklearn.model_selection import train_test_split\n",
    "from keras.models import Model\n",
    "from keras.models import Sequential\n",
    "from keras.layers import Input, Dropout, Flatten, Convolution2D, MaxPooling2D, Dense, Activation, Conv2D\n",
    "from keras.optimizers import RMSprop,SGD,Adagrad\n",
    "from keras.callbacks import ModelCheckpoint, Callback, EarlyStopping\n",
    "from keras.utils import np_utils"
   ]
  },
  {
   "cell_type": "code",
   "execution_count": 152,
   "metadata": {},
   "outputs": [
    {
     "name": "stdout",
     "output_type": "stream",
     "text": [
      "Processed 0 of 12993\n",
      "Processed 2000 of 12993\n",
      "Processed 4000 of 12993\n",
      "Processed 6000 of 12993\n",
      "Processed 8000 of 12993\n",
      "Processed 10000 of 12993\n",
      "Processed 12000 of 12993\n",
      "Data shape: (12993, 224, 224)\n"
     ]
    }
   ],
   "source": [
    "#load image data from file and labels\n",
    "#load labels\n",
    "# define 8 kind of emotion,defined as one hot label\n",
    "# anger-1    contempt-2    disgust-3   fear-4   happiness-5   neutral-6     sadness-7    surprise-8\n",
    "def labelconvert():\n",
    "    csv_file=csv.reader(open('train.csv','r'))\n",
    "    x=list(csv_file)\n",
    "    length=len(x)\n",
    "    onehot_labels=np.zeros((length,8))\n",
    "    labels=np.zeros((length))\n",
    "    for i in range (0,len(x)):\n",
    "        if (x[i][1]=='anger'):\n",
    "            onehot_labels[i][0]=1\n",
    "            labels[i]=0\n",
    "        elif (x[i][1]=='contempt'):\n",
    "            onehot_labels[i][1]=1\n",
    "            labels[i]=1\n",
    "        elif (x[i][1]=='disgust'):\n",
    "            onehot_labels[i][2]=1\n",
    "            labels[i]=2\n",
    "        elif (x[i][1]=='fear'):\n",
    "            onehot_labels[i][3]=1\n",
    "            labels[i]=3\n",
    "        elif (x[i][1]=='happiness'):\n",
    "            onehot_labels[i][4]=1\n",
    "            labels[i]=4\n",
    "        elif (x[i][1]=='neutral'):\n",
    "            onehot_labels[i][5]=1\n",
    "            labels[i]=5\n",
    "        elif (x[i][1]=='sadness'):\n",
    "            onehot_labels[i][6]=1\n",
    "            labels[i]=6\n",
    "        elif (x[i][1]=='surprise'):\n",
    "            onehot_labels[i][7]=1\n",
    "            labels[i]=7\n",
    "        else:\n",
    "            labels[i]=0\n",
    "    return onehot_labels,labels\n",
    "\n",
    "#load images data\n",
    "DATA_DIR='C:\\\\Users\\\\zhang\\\\Desktop\\\\EE599 coding\\\\HW4\\\\train_image\\\\'\n",
    "\n",
    "ROWS = 224\n",
    "COLS = 224\n",
    "CHANNELS = 1\n",
    "\n",
    "all_images = [DATA_DIR+i for i in os.listdir(DATA_DIR)] # use this for full dataset\n",
    "#test_images =  [DATA_DIR+i for i in os.listdir(DATA_DIR) if i>=10000]\n",
    "\n",
    "\n",
    "def read_image(file_path):\n",
    "    img = cv2.imread(file_path,cv2.IMREAD_GRAYSCALE) #cv2.IMREAD_GRAYSCALE\n",
    "    return cv2.resize(img, (ROWS, COLS), interpolation=cv2.INTER_CUBIC)\n",
    "\n",
    "def prep_data(images):\n",
    "    count = len(images)\n",
    "    data = np.ndarray((count,  ROWS, COLS), dtype=np.uint8)\n",
    "\n",
    "    for i, image_file in enumerate(images):\n",
    "        image = read_image(image_file)\n",
    "        data[i] = image\n",
    "        if i%2000 == 0: print('Processed {} of {}'.format(i, count))\n",
    "    \n",
    "    return data\n",
    "\n",
    "# get all data and labels, image data in 'data' array ,onehot labels in 'labels', number labels in 'num_labels'\n",
    "\n",
    "data= prep_data(all_images)\n",
    "labels,num_labels=labelconvert()\n",
    "\n",
    "print(\"Data shape: {}\".format(data.shape))"
   ]
  },
  {
   "cell_type": "code",
   "execution_count": 153,
   "metadata": {},
   "outputs": [
    {
     "data": {
      "text/plain": [
       "array([ 239.,    8.,  197.,   19., 5408., 6520.,  253.,  349.])"
      ]
     },
     "execution_count": 153,
     "metadata": {},
     "output_type": "execute_result"
    }
   ],
   "source": [
    "# brief understanding of data\n",
    "average_fig=data.sum(axis=0)/data.shape[0]\n",
    "#plt.imshow(average_fig,cmap='gray')\n",
    "#plt.title('average face')\n",
    "#plt.show()\n",
    "labels.sum(axis=0)"
   ]
  },
  {
   "cell_type": "code",
   "execution_count": 158,
   "metadata": {},
   "outputs": [
    {
     "name": "stdout",
     "output_type": "stream",
     "text": [
      "Train shape: (8000, 224, 224)\n",
      "train labels distribution [ 145.    7.  123.   11. 3324. 4027.  153.  210.]\n",
      "Validation shape: (1000, 224, 224)\n",
      "test labels distribution [ 17.   0.  10.   2. 392. 527.  21.  31.]\n"
     ]
    }
   ],
   "source": [
    "# data prepocessing\n",
    "#include train/validaiton data seperation, balance data and augment data\n",
    "\n",
    "# train/validation seperate\n",
    "n_train=8000\n",
    "n_validation=1000\n",
    "\n",
    "train, val, train_labels, val_labels = train_test_split(data, labels, train_size=n_train,test_size=n_validation)\n",
    "print(\"Train shape: {}\".format(train.shape))\n",
    "print('train labels distribution',train_labels.sum(axis=0))\n",
    "print(\"Validation shape: {}\".format(val.shape))\n",
    "print('test labels distribution',val_labels.sum(axis=0))\n",
    "# data augmentation\n",
    "\n",
    "\n",
    "\n",
    "train_data=train.reshape(n_train,224,224,1)\n",
    "val_data=val.reshape(n_validation,224,224,1)\n",
    "#print(train_data.shape)\n",
    "#sns.countplot(train_labels)\n",
    "#sns.plttitle('Cats and Dogs')"
   ]
  },
  {
   "cell_type": "code",
   "execution_count": 136,
   "metadata": {},
   "outputs": [
    {
     "data": {
      "image/png": "[encoded data removed]",
      "text/plain": [
       "<Figure size 576x288 with 1 Axes>"
      ]
     },
     "metadata": {
      "needs_background": "light"
     },
     "output_type": "display_data"
    },
    {
     "name": "stdout",
     "output_type": "stream",
     "text": [
      "[0. 0. 1. 0. 0. 0. 0. 0.] [0. 0. 1. 0. 0. 0. 0. 0.]\n",
      "disgust\n",
      "disgust\n"
     ]
    }
   ],
   "source": [
    "# show image\n",
    "anger= np.array([1,0,0,0,0,0,0,0])\n",
    "contempt= np.array([0,1,0,0,0,0,0,0])    \n",
    "disgust= np.array([0,0,1,0,0,0,0,0])   \n",
    "fear= np.array([0,0,0,1,0,0,0,0])    \n",
    "happiness= np.array([0,0,0,0,1,0,0,0])    \n",
    "neutral= np.array([0,0,0,0,0,1,0,0])      \n",
    "sadness= np.array([0,0,0,0,0,0,1,0])     \n",
    "surprise= np.array([0,0,0,0,0,0,0,1]) \n",
    "\n",
    "def show_face(dataset,idx):\n",
    "    img = dataset[idx]\n",
    "    plt.imshow(img,cmap='gray')\n",
    "    plt.show()\n",
    "\n",
    "def show_face_compared(dataset1,idx1,dataset2,idx2):\n",
    "    img1=dataset1[idx1]\n",
    "    img2=dataset2[idx2]\n",
    "    pair = np.concatenate((img1, img2), axis=1)\n",
    "    plt.figure(figsize=(8,4))\n",
    "    plt.imshow(pair,cmap='gray')\n",
    "    plt.show()\n",
    "\n",
    "def show_label(label_test):\n",
    "    if (label_test==anger).all():\n",
    "        print('anger')\n",
    "    elif (label_test==contempt).all():\n",
    "        print('contempt')\n",
    "    elif (label_test==disgust).all():\n",
    "        print('disgust')\n",
    "    elif (label_test==fear).all():\n",
    "        print('fear')\n",
    "    elif (label_test==happiness).all():\n",
    "        print('happiness')\n",
    "    elif (label_test==neutral).all():\n",
    "        print('neutral')\n",
    "    elif (label_test==sadness).all():\n",
    "        print('sadness')\n",
    "    elif (label_test==surprise).all():\n",
    "        print('surprise')\n",
    "    else:\n",
    "        print('error')\n",
    "    \n",
    "### an example of figure show and label show    \n",
    "for idx in range(0,1):\n",
    "    show_face_compared(data,idx,train,idx)\n",
    "    print(labels[idx],train_labels[idx])\n",
    "    show_label(labels[idx])\n",
    "    show_label(train_labels[idx])"
   ]
  },
  {
   "cell_type": "code",
   "execution_count": 138,
   "metadata": {},
   "outputs": [],
   "source": []
  },
  {
   "cell_type": "code",
   "execution_count": 156,
   "metadata": {},
   "outputs": [
    {
     "name": "stdout",
     "output_type": "stream",
     "text": [
      "_________________________________________________________________\n",
      "Layer (type)                 Output Shape              Param #   \n",
      "=================================================================\n",
      "conv2d_38 (Conv2D)           (None, 224, 224, 16)      160       \n",
      "_________________________________________________________________\n",
      "conv2d_39 (Conv2D)           (None, 224, 224, 16)      2320      \n",
      "_________________________________________________________________\n",
      "max_pooling2d_16 (MaxPooling (None, 112, 112, 16)      0         \n",
      "_________________________________________________________________\n",
      "conv2d_40 (Conv2D)           (None, 112, 112, 32)      4640      \n",
      "_________________________________________________________________\n",
      "conv2d_41 (Conv2D)           (None, 112, 112, 32)      9248      \n",
      "_________________________________________________________________\n",
      "max_pooling2d_17 (MaxPooling (None, 56, 56, 32)        0         \n",
      "_________________________________________________________________\n",
      "conv2d_42 (Conv2D)           (None, 56, 56, 64)        18496     \n",
      "_________________________________________________________________\n",
      "conv2d_43 (Conv2D)           (None, 56, 56, 64)        36928     \n",
      "_________________________________________________________________\n",
      "max_pooling2d_18 (MaxPooling (None, 28, 28, 64)        0         \n",
      "_________________________________________________________________\n",
      "conv2d_44 (Conv2D)           (None, 28, 28, 128)       73856     \n",
      "_________________________________________________________________\n",
      "conv2d_45 (Conv2D)           (None, 28, 28, 128)       147584    \n",
      "_________________________________________________________________\n",
      "max_pooling2d_19 (MaxPooling (None, 14, 14, 128)       0         \n",
      "_________________________________________________________________\n",
      "conv2d_46 (Conv2D)           (None, 14, 14, 64)        73792     \n",
      "_________________________________________________________________\n",
      "conv2d_47 (Conv2D)           (None, 14, 14, 64)        36928     \n",
      "_________________________________________________________________\n",
      "max_pooling2d_20 (MaxPooling (None, 7, 7, 64)          0         \n",
      "_________________________________________________________________\n",
      "flatten_4 (Flatten)          (None, 3136)              0         \n",
      "_________________________________________________________________\n",
      "dense_10 (Dense)             (None, 64)                200768    \n",
      "_________________________________________________________________\n",
      "dropout_7 (Dropout)          (None, 64)                0         \n",
      "_________________________________________________________________\n",
      "dense_11 (Dense)             (None, 64)                4160      \n",
      "_________________________________________________________________\n",
      "dropout_8 (Dropout)          (None, 64)                0         \n",
      "_________________________________________________________________\n",
      "dense_12 (Dense)             (None, 8)                 520       \n",
      "_________________________________________________________________\n",
      "activation_4 (Activation)    (None, 8)                 0         \n",
      "=================================================================\n",
      "Total params: 609,400\n",
      "Trainable params: 609,400\n",
      "Non-trainable params: 0\n",
      "_________________________________________________________________\n"
     ]
    }
   ],
   "source": [
    "# use VGG-16 to train model\n",
    "optimizer = RMSprop(lr=1e-4)\n",
    "objective = 'categorical_crossentropy'\n",
    "\n",
    "def model_vgg16():\n",
    "    model = Sequential()\n",
    "\n",
    "    model.add(Conv2D(64, (3, 3), padding='same', input_shape=(ROWS, COLS,1), activation='relu'))\n",
    "    model.add(Conv2D(64, (3, 3), padding='same', activation='relu'))\n",
    "    model.add(MaxPooling2D(pool_size=(2, 2),padding='same'))\n",
    "\n",
    "    model.add(Conv2D(128, (3, 3), padding='same', activation='relu'))\n",
    "    model.add(Conv2D(128, (3, 3), padding='same', activation='relu'))\n",
    "    model.add(MaxPooling2D(pool_size=(2, 2)))\n",
    "    \n",
    "    model.add(Conv2D(256, (3, 3), padding='same', activation='relu'))\n",
    "    model.add(Conv2D(256, (3, 3), padding='same', activation='relu'))\n",
    "    model.add(Conv2D(256, (3, 3), padding='same', activation='relu'))\n",
    "    model.add(MaxPooling2D(pool_size=(2, 2)))\n",
    "    \n",
    "    model.add(Conv2D(512, (3, 3), padding='same', activation='relu'))\n",
    "    model.add(Conv2D(512, (3, 3), padding='same', activation='relu'))\n",
    "    model.add(Conv2D(512, (3, 3), padding='same', activation='relu'))\n",
    "    model.add(MaxPooling2D(pool_size=(2, 2)))\n",
    "\n",
    "    model.add(Conv2D(512, (3, 3), padding='same', activation='relu'))\n",
    "    model.add(Conv2D(512, (3, 3), padding='same', activation='relu'))\n",
    "    model.add(Conv2D(512, (3, 3), padding='same', activation='relu'))\n",
    "#     model.add(Convolution2D(256, 3, 3, border_mode='same', activation='relu'))\n",
    "    model.add(MaxPooling2D(pool_size=(2, 2)))\n",
    "\n",
    "    model.add(Flatten())\n",
    "    model.add(Dense(256, activation='relu'))\n",
    "    model.add(Dropout(0.5))\n",
    "    \n",
    "    model.add(Dense(256, activation='relu'))\n",
    "    model.add(Dropout(0.5))\n",
    "\n",
    "    model.add(Dense(8))\n",
    "    model.add(Activation('sigmoid'))\n",
    "\n",
    "    model.compile(loss=objective, optimizer=optimizer, metrics=['accuracy'])\n",
    "    return model\n",
    "\n",
    "def model_me():\n",
    "    model = Sequential()\n",
    "\n",
    "    model.add(Conv2D(32, (3, 3), padding='same', input_shape=(ROWS, COLS,1), activation='relu'))\n",
    "    model.add(Conv2D(32, (3, 3), padding='same', activation='relu'))\n",
    "    model.add(MaxPooling2D(pool_size=(2, 2),padding='same'))\n",
    "\n",
    "    model.add(Conv2D(64, (3, 3), padding='same', activation='relu'))\n",
    "    model.add(Conv2D(64, (3, 3), padding='same', activation='relu'))\n",
    "    model.add(MaxPooling2D(pool_size=(2, 2)))\n",
    "    \n",
    "    model.add(Conv2D(128, (3, 3), padding='same', activation='relu'))\n",
    "    model.add(Conv2D(128, (3, 3), padding='same', activation='relu'))\n",
    "#    model.add(Conv2D(256, (3, 3), padding='same', activation='relu'))\n",
    "    model.add(MaxPooling2D(pool_size=(2, 2)))\n",
    "    \n",
    "    model.add(Conv2D(256, (3, 3), padding='same', activation='relu'))\n",
    "    model.add(Conv2D(256, (3, 3), padding='same', activation='relu'))\n",
    "    model.add(Conv2D(256, (3, 3), padding='same', activation='relu'))\n",
    "    model.add(MaxPooling2D(pool_size=(2, 2)))\n",
    "\n",
    "    model.add(Conv2D(512, (3, 3), padding='same', activation='relu'))\n",
    "    model.add(Conv2D(512, (3, 3), padding='same', activation='relu'))\n",
    "    model.add(Conv2D(512, (3, 3), padding='same', activation='relu'))\n",
    "#     model.add(Convolution2D(256, 3, 3, border_mode='same', activation='relu'))\n",
    "    model.add(MaxPooling2D(pool_size=(2, 2)))\n",
    "\n",
    "    model.add(Flatten())\n",
    "    model.add(Dense(256, activation='relu'))\n",
    "    model.add(Dropout(0.5))\n",
    "    \n",
    "    model.add(Dense(256, activation='relu'))\n",
    "    model.add(Dropout(0.5))\n",
    "\n",
    "    model.add(Dense(8))\n",
    "    model.add(Activation('sigmoid'))\n",
    "\n",
    "    model.compile(loss=objective, optimizer=optimizer, metrics=['accuracy'])\n",
    "    return model\n",
    "\n",
    "def model_simple():\n",
    "    model = Sequential()\n",
    "\n",
    "    model.add(Conv2D(16, (3, 3), padding='same', input_shape=(ROWS, COLS,1), activation='relu'))\n",
    "    model.add(Conv2D(16, (3, 3), padding='same', activation='relu'))\n",
    "    model.add(MaxPooling2D(pool_size=(2, 2),padding='same'))\n",
    "\n",
    "    model.add(Conv2D(32, (3, 3), padding='same', activation='relu'))\n",
    "    model.add(Conv2D(32, (3, 3), padding='same', activation='relu'))\n",
    "    model.add(MaxPooling2D(pool_size=(2, 2)))\n",
    "    \n",
    "    model.add(Conv2D(64, (3, 3), padding='same', activation='relu'))\n",
    "    model.add(Conv2D(64, (3, 3), padding='same', activation='relu'))\n",
    "#    model.add(Conv2D(256, (3, 3), padding='same', activation='relu'))\n",
    "    model.add(MaxPooling2D(pool_size=(2, 2)))\n",
    "    \n",
    "    model.add(Conv2D(128, (3, 3), padding='same', activation='relu'))\n",
    "    model.add(Conv2D(128, (3, 3), padding='same', activation='relu'))\n",
    "    model.add(MaxPooling2D(pool_size=(2, 2)))\n",
    "\n",
    "    model.add(Conv2D(64, (3, 3), padding='same', activation='relu'))\n",
    "    model.add(Conv2D(64, (3, 3), padding='same', activation='relu'))\n",
    "#     model.add(Convolution2D(256, 3, 3, border_mode='same', activation='relu'))\n",
    "    model.add(MaxPooling2D(pool_size=(2, 2)))\n",
    "\n",
    "    model.add(Flatten())\n",
    "    model.add(Dense(64, activation='relu'))\n",
    "    model.add(Dropout(0.5))\n",
    "    \n",
    "    model.add(Dense(64, activation='relu'))\n",
    "    model.add(Dropout(0.5))\n",
    "\n",
    "    model.add(Dense(8))\n",
    "    model.add(Activation('sigmoid'))\n",
    "\n",
    "    model.compile(loss=objective, optimizer=optimizer, metrics=['accuracy'])\n",
    "    return model\n",
    "\n",
    "model = model_simple()\n",
    "model.summary()"
   ]
  },
  {
   "cell_type": "code",
   "execution_count": 166,
   "metadata": {},
   "outputs": [
    {
     "name": "stderr",
     "output_type": "stream",
     "text": [
      "D:\\Anaconda\\envs\\test_env_3.7\\lib\\site-packages\\keras\\callbacks.py:122: UserWarning: Method on_batch_end() is slow compared to the batch update (0.485173). Check your callbacks.\n",
      "  % delta_t_median)\n"
     ]
    },
    {
     "name": "stdout",
     "output_type": "stream",
     "text": [
      "Epoch 00007: early stopping\n"
     ]
    }
   ],
   "source": [
    "nb_epoch = 40\n",
    "batch_size = 20\n",
    "\n",
    "## Callback for loss logging per epoch\n",
    "class LossHistory(Callback):\n",
    "    def on_train_begin(self, logs={}):\n",
    "        self.losses = []\n",
    "        self.val_losses = []\n",
    "        \n",
    "    def on_epoch_end(self, batch, logs={}):\n",
    "        self.losses.append(logs.get('loss'))\n",
    "        self.val_losses.append(logs.get('val_loss'))\n",
    "\n",
    "early_stopping = EarlyStopping(monitor='val_loss', patience=3, verbose=1, mode='auto')        \n",
    "        \n",
    "def run_facial():\n",
    "    \n",
    "    history = LossHistory()\n",
    "    model.fit(train_data, train_labels, batch_size=batch_size, epochs=nb_epoch,\n",
    "              validation_split=0.25, verbose=0, shuffle=True, callbacks=[history, early_stopping])\n",
    "              #validation_split=0.25, verbose=0, shuffle=True, callbacks=[history])\n",
    "    \n",
    "\n",
    "    #predictions = model.predict(test, verbose=0)\n",
    "    return history\n",
    "history = run_facial()\n",
    "#model.save('my_model_32_512.h5')"
   ]
  },
  {
   "cell_type": "code",
   "execution_count": 167,
   "metadata": {},
   "outputs": [
    {
     "data": {
      "image/png": "[encoded data removed]",
      "text/plain": [
       "<Figure size 432x288 with 1 Axes>"
      ]
     },
     "metadata": {
      "needs_background": "light"
     },
     "output_type": "display_data"
    }
   ],
   "source": [
    "loss = history.losses\n",
    "val_loss = history.val_losses\n",
    "\n",
    "plt.xlabel('Epochs')\n",
    "plt.ylabel('Loss')\n",
    "plt.title('my model Loss Trend')\n",
    "plt.plot(loss, 'blue', label='Training Loss')\n",
    "plt.plot(val_loss, 'green', label='Validation Loss')\n",
    "plt.xticks(range(0,nb_epoch)[0::2])\n",
    "plt.legend()\n",
    "plt.show()"
   ]
  },
  {
   "cell_type": "code",
   "execution_count": 168,
   "metadata": {},
   "outputs": [],
   "source": [
    "val_predictions = model.predict(val_data, verbose=0)\n",
    "train_predictions=model.predict(train_data,verbose=0)\n",
    "#test_predictions=model.predict(test,verbose=0)"
   ]
  },
  {
   "cell_type": "code",
   "execution_count": 169,
   "metadata": {},
   "outputs": [
    {
     "name": "stdout",
     "output_type": "stream",
     "text": [
      "wrong prediction of each label [  28    0   84    0  510 1478    1   82]\n",
      "right prediction of each label [  10    0   61    0 4520 6134    1   84]\n",
      "prediction of each label       [  38    0  145    0 5030 7612    2  166]\n",
      "true of each label             [ 239    8  197   19 5408 6520  253  349]\n"
     ]
    }
   ],
   "source": [
    "## all detail in this model\n",
    "acc_all,n_wrc,n_ric,n_allc,n_alll=detail(labels,all_predictions)\n",
    "print('wrong prediction of each label',n_wrc)\n",
    "print('right prediction of each label',n_ric)\n",
    "print('prediction of each label      ',n_allc)\n",
    "print('true of each label            ',n_alll)"
   ]
  },
  {
   "cell_type": "code",
   "execution_count": 148,
   "metadata": {},
   "outputs": [],
   "source": [
    "# test performance on test set(seperate of training part)\n",
    "# a full understanding of model accuracy and classfication\n",
    "\n",
    "def notsure(predictions):\n",
    "    n_notsure=0\n",
    "    for i in range (0,len(predictions)):\n",
    "        if (predictions[i]<0.7 and predictions[i]>0.3):\n",
    "            n_notsure+=1\n",
    "    notsure_per=n_notsure/len(predictions)\n",
    "    return notsure_per\n",
    "\n",
    "def get_hot_value(prediction_list):\n",
    "    hot_list=np.zeros((prediction_list.shape[0],prediction_list.shape[1]),int)\n",
    "    for i in range (0,len(prediction_list)):\n",
    "        max_val, hot_oneline, max_found = max(prediction_list[i]), [], False\n",
    "        for item in prediction_list[i]:\n",
    "            if item == max_val and not max_found:\n",
    "                hot_oneline.append(1)\n",
    "                max_found = True\n",
    "            else:\n",
    "                hot_oneline.append(0)\n",
    "        hot_list[i,:]=hot_oneline\n",
    "    return hot_list\n",
    "\n",
    "def detail(label,predictions):\n",
    "    n_right=0\n",
    "    n_wrong=0\n",
    "    pred_onehot=get_hot_value(predictions)\n",
    "    n_wrongclassified=np.zeros((predictions.shape[1]),int) #classified as a label(in predictions), but is not\n",
    "    n_rightclassified=np.zeros((predictions.shape[1]),int)\n",
    "    n_allclassified=pred_onehot.sum(axis=0)\n",
    "    n_alllabeled=label.sum(axis=0)\n",
    "    for i in range (0,len(predictions)):\n",
    "        if (label[i]==pred_onehot[i]).all():\n",
    "            n_right+=1\n",
    "            n_rightclassified+=pred_onehot[i]\n",
    "        else:\n",
    "            n_wrong+=1\n",
    "            n_wrongclassified+=pred_onehot[i]\n",
    "    accuracy=n_right/len(predictions)\n",
    "    return accuracy,n_wrongclassified,n_rightclassified,n_allclassified,n_alllabeled.astype(int)\n",
    "        "
   ]
  },
  {
   "cell_type": "code",
   "execution_count": 170,
   "metadata": {},
   "outputs": [
    {
     "name": "stdout",
     "output_type": "stream",
     "text": [
      "the test total accuracy is 0.835000\n"
     ]
    }
   ],
   "source": [
    "## validation detail in this model\n",
    "accu=accuracy(val_labels,val_predictions)\n",
    "val_onehot=get_hot_value(val_predictions)\n",
    "print('the test total accuracy is %f'%(accu))"
   ]
  },
  {
   "cell_type": "code",
   "execution_count": null,
   "metadata": {},
   "outputs": [],
   "source": [
    "print(val_onehot.sum(axis=0))\n",
    "print( val_labels.sum(axis=0))"
   ]
  },
  {
   "cell_type": "code",
   "execution_count": 165,
   "metadata": {},
   "outputs": [],
   "source": [
    "model.save('face_model3_16_512.h5')"
   ]
  },
  {
   "cell_type": "code",
   "execution_count": 123,
   "metadata": {},
   "outputs": [
    {
     "data": {
      "text/plain": [
       "(12993, 8)"
      ]
     },
     "execution_count": 123,
     "metadata": {},
     "output_type": "execute_result"
    }
   ],
   "source": [
    "labels.shape"
   ]
  }
 ],
 "metadata": {
  "kernelspec": {
   "display_name": "Python 3",
   "language": "python",
   "name": "python3"
  },
  "language_info": {
   "codemirror_mode": {
    "name": "ipython",
    "version": 3
   },
   "file_extension": ".py",
   "mimetype": "text/x-python",
   "name": "python",
   "nbconvert_exporter": "python",
   "pygments_lexer": "ipython3",
   "version": "3.6.8"
  }
 },
 "nbformat": 4,
 "nbformat_minor": 2
}
