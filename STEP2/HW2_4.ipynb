{
 "cells": [
  {
   "cell_type": "code",
   "execution_count": 14,
   "metadata": {},
   "outputs": [
    {
     "data": {
      "text/plain": [
       "['matched_10_v',\n",
       " 'matched_10_x',\n",
       " 'matched_10_y',\n",
       " 'matched_10_z',\n",
       " 'matched_3_v',\n",
       " 'matched_3_x',\n",
       " 'matched_3_y',\n",
       " 'matched_3_z',\n",
       " 'mismatched_v',\n",
       " 'mismatched_x',\n",
       " 'mismatched_y',\n",
       " 'timevarying_coefficents',\n",
       " 'timevarying_v',\n",
       " 'timevarying_x',\n",
       " 'timevarying_y',\n",
       " 'timevarying_z']"
      ]
     },
     "execution_count": 14,
     "metadata": {},
     "output_type": "execute_result"
    }
   ],
   "source": [
    "import h5py \n",
    "import sklearn\n",
    "import numpy as np\n",
    "import matplotlib.pyplot as plt\n",
    "from sklearn.neural_network import MLPRegressor\n",
    "from sklearn.model_selection import train_test_split\n",
    "\n",
    "f = h5py.File('lms_fun_v3.hdf5','r') \n",
    "list(f.keys())"
   ]
  },
  {
   "cell_type": "code",
   "execution_count": 15,
   "metadata": {},
   "outputs": [],
   "source": [
    "mis_v=f['mismatched_v']\n",
    "mis_y=f['mismatched_y']\n",
    "mis_v=np.array(mis_v)\n",
    "mis_y=np.array(mis_y)"
   ]
  },
  {
   "cell_type": "code",
   "execution_count": 16,
   "metadata": {},
   "outputs": [],
   "source": [
    "n_iter=mis_v.shape[0]\n",
    "n_node=mis_v.shape[1]\n",
    "re_v=np.zeros((n_iter*n_node,3),float)\n",
    "re_y=np.zeros((n_iter*n_node,1),float)\n",
    "for i in range (0,n_iter):\n",
    "    re_v[i*501:i*501+501,:]=mis_v[i]\n",
    "    re_y[i*501:i*501+501,0]=mis_y[i,:]"
   ]
  },
  {
   "cell_type": "code",
   "execution_count": 17,
   "metadata": {},
   "outputs": [],
   "source": [
    "vtrain,vtest,ytrain,ytest=train_test_split(re_v,re_y,test_size=0.3)"
   ]
  },
  {
   "cell_type": "code",
   "execution_count": 24,
   "metadata": {},
   "outputs": [
    {
     "name": "stderr",
     "output_type": "stream",
     "text": [
      "D:\\Anaconda\\lib\\site-packages\\sklearn\\neural_network\\multilayer_perceptron.py:1316: DataConversionWarning: A column-vector y was passed when a 1d array was expected. Please change the shape of y to (n_samples, ), for example using ravel().\n",
      "  y = column_or_1d(y, warn=True)\n"
     ]
    },
    {
     "name": "stdout",
     "output_type": "stream",
     "text": [
      "(90180,)\n",
      "0.15957439800857454\n"
     ]
    },
    {
     "data": {
      "text/plain": [
       "27"
      ]
     },
     "execution_count": 24,
     "metadata": {},
     "output_type": "execute_result"
    }
   ],
   "source": [
    "##DEFINE NETWORK\n",
    "nn = MLPRegressor(hidden_layer_sizes=(3,3,4),solver='lbfgs',activation='relu',random_state=1)\n",
    "##TRAIN NETWORK\n",
    "nn.fit(vtrain,ytrain)\n",
    "\n",
    "\n",
    "21 ## 5. EVALUATE NETWORK\n",
    "ypred=nn.predict(vtest)\n",
    "print(ypred.shape)\n",
    "mse=sklearn.metrics.mean_squared_error(ypred,ytest)\n",
    "print(mse)\n",
    "24\n",
    "25 ## \u0003 INSPECT PLOTS\n",
    "26\n",
    "27 ## \u0003 SAVE STATE: nn . get params"
   ]
  },
  {
   "cell_type": "code",
   "execution_count": 19,
   "metadata": {},
   "outputs": [
    {
     "name": "stdout",
     "output_type": "stream",
     "text": [
      "(90180,)\n",
      "(90180, 1)\n"
     ]
    }
   ],
   "source": [
    "print(ypred.shape)\n",
    "print(ytest.shape)"
   ]
  },
  {
   "cell_type": "code",
   "execution_count": 28,
   "metadata": {},
   "outputs": [
    {
     "name": "stderr",
     "output_type": "stream",
     "text": [
      "D:\\Anaconda\\lib\\site-packages\\sklearn\\neural_network\\multilayer_perceptron.py:1316: DataConversionWarning: A column-vector y was passed when a 1d array was expected. Please change the shape of y to (n_samples, ), for example using ravel().\n",
      "  y = column_or_1d(y, warn=True)\n"
     ]
    }
   ],
   "source": [
    "import pickle\n",
    "\n",
    "nn = MLPRegressor(hidden_layer_sizes=(3,3,4),solver='lbfgs',activation='relu',random_state=1)\n",
    "nn.fit(vtrain,ytrain)\n",
    "pickle.dump(nn, open('nn2.pkl', 'wb'))\n",
    "#<strong>\n",
    "#</strong>"
   ]
  }
 ],
 "metadata": {
  "kernelspec": {
   "display_name": "Python 3",
   "language": "python",
   "name": "python3"
  },
  "language_info": {
   "codemirror_mode": {
    "name": "ipython",
    "version": 3
   },
   "file_extension": ".py",
   "mimetype": "text/x-python",
   "name": "python",
   "nbconvert_exporter": "python",
   "pygments_lexer": "ipython3",
   "version": "3.6.8"
  }
 },
 "nbformat": 4,
 "nbformat_minor": 2
}
