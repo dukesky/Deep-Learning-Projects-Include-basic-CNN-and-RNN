{
 "cells": [
  {
   "cell_type": "code",
   "execution_count": 1,
   "metadata": {
    "scrolled": true
   },
   "outputs": [
    {
     "data": {
      "text/plain": [
       "['xdata', 'ydata']"
      ]
     },
     "execution_count": 1,
     "metadata": {},
     "output_type": "execute_result"
    }
   ],
   "source": [
    "import h5py \n",
    "import numpy as np\n",
    "#import math\n",
    "\n",
    "f = h5py.File('mnist_testdata.hdf5','r') \n",
    "#f=h5py.File('mnist_network_params.hdf5','r')\n",
    "list(f.keys())\n",
    "#list(f1.keys())"
   ]
  },
  {
   "cell_type": "code",
   "execution_count": 2,
   "metadata": {},
   "outputs": [],
   "source": [
    "xtrain=f['xdata']\n",
    "#ytrain=f['ydata']"
   ]
  },
  {
   "cell_type": "code",
   "execution_count": 3,
   "metadata": {},
   "outputs": [],
   "source": [
    "f1 = h5py.File('mnist_network_params.hdf5','r') \n",
    "w1=f1['W1']\n",
    "w2=f1['W2']\n",
    "w3=f1['W3']\n",
    "b1=f1['b1']\n",
    "b2=f1['b2']\n",
    "b3=f1['b3']"
   ]
  },
  {
   "cell_type": "code",
   "execution_count": 4,
   "metadata": {},
   "outputs": [
    {
     "name": "stdout",
     "output_type": "stream",
     "text": [
      "(200, 784) (100, 200) (10, 100) (200,) (100,) (10,)\n"
     ]
    }
   ],
   "source": [
    "print(w1.shape,w2.shape,w3.shape,b1.shape,b2.shape,b3.shape)\n",
    "w1=np.array(w1)\n",
    "w2=np.array(w2)\n",
    "w3=np.array(w3)\n",
    "b1=np.array(b1)\n",
    "b2=np.array(b2)\n",
    "b3=np.array(b3)\n",
    "xtrain=np.array(xtrain)\n",
    "#ytrain=np.array(ytrain)\n"
   ]
  },
  {
   "cell_type": "code",
   "execution_count": 5,
   "metadata": {},
   "outputs": [],
   "source": [
    "def relu(x):\n",
    "    return np.maximum(x, 0)"
   ]
  },
  {
   "cell_type": "code",
   "execution_count": 6,
   "metadata": {},
   "outputs": [],
   "source": [
    "def Softmax(x):\n",
    "    exp_scores = np.exp(x)\n",
    "    out = exp_scores / np.sum(exp_scores, axis=1, keepdims=True)\n",
    "    return out"
   ]
  },
  {
   "cell_type": "code",
   "execution_count": 7,
   "metadata": {},
   "outputs": [],
   "source": [
    "def feed_forward(x):\n",
    "    z1 = x@w1.transpose() + b1\n",
    "    a1 = relu(z1)\n",
    "    z2 = a1@w2.transpose() + b2\n",
    "    a2 = relu(z2)\n",
    "    z3 = a2@w3.transpose() + b3\n",
    "    a3 = relu(z3)\n",
    "    out = Softmax(a3)\n",
    "    return a1,a2,a3,out"
   ]
  },
  {
   "cell_type": "code",
   "execution_count": 8,
   "metadata": {},
   "outputs": [
    {
     "name": "stdout",
     "output_type": "stream",
     "text": [
      "[[4.8460596e-09 4.8460596e-09 9.3678693e-07 3.7119484e-05 4.8460596e-09\n",
      "  4.8460596e-09 4.8460596e-09 9.9996161e-01 4.8460596e-09 2.8118322e-07]\n",
      " [9.0599028e-10 4.7129006e-07 9.9999839e-01 1.0429526e-06 9.0599028e-10\n",
      "  9.0599028e-10 2.1672317e-08 9.0599028e-10 1.6367314e-07 9.0599028e-10]\n",
      " [3.6753838e-05 9.9914736e-01 9.5336167e-05 3.6753838e-05 3.6753838e-05\n",
      "  3.6753838e-05 3.6753838e-05 1.4126032e-04 3.9555319e-04 3.6753838e-05]]\n"
     ]
    }
   ],
   "source": [
    "pred=feed_forward(xtrain)\n",
    "pred_result=pred[3]\n",
    "print(pred[3][0:3,:])"
   ]
  },
  {
   "cell_type": "code",
   "execution_count": 9,
   "metadata": {},
   "outputs": [],
   "source": [
    "num=0\n",
    "n_iter=xtrain.shape[0]\n",
    "pred_result=np.zeros((n_iter,10),float)\n",
    "pred_label=np.zeros((n_iter,1),float)\n",
    "for i in range (0,n_iter):\n",
    "    pred_result[i,:]=pred[3][i,:]\n",
    "    label=np.where(pred_result[i,:]==np.max(pred_result[i,:]))   # find label for each predict data\n",
    "    pred_label[i,0]=label[0][0]\n",
    "#    train_result=ytrain[i,:]\n",
    "#    index_1=train_result.nonzero()[0]\n",
    "#    num_1=pred_result[index_1[0]]\n",
    "#    if np.equal(pred_result.max(0),num_1):\n",
    "#        num=num+1    \n",
    "#print(num)\n",
    "#print(num_false)\n"
   ]
  },
  {
   "cell_type": "code",
   "execution_count": 10,
   "metadata": {},
   "outputs": [],
   "source": [
    "output = []\n",
    "for i in range(0,n_iter):\n",
    "    output.append({\n",
    "      \"activations\": pred_result[i,:].tolist(),\n",
    "      \"index\": i,\n",
    "      \"classification\": int(pred_result[i,:].argmax())\n",
    "    })\n",
    "\n",
    "import json\n",
    "#print(\"AUTOGRADE: %s\" % (json.dumps(output)))"
   ]
  },
  {
   "cell_type": "code",
   "execution_count": null,
   "metadata": {},
   "outputs": [],
   "source": []
  }
 ],
 "metadata": {
  "kernelspec": {
   "display_name": "Python 3",
   "language": "python",
   "name": "python3"
  },
  "language_info": {
   "codemirror_mode": {
    "name": "ipython",
    "version": 3
   },
   "file_extension": ".py",
   "mimetype": "text/x-python",
   "name": "python",
   "nbconvert_exporter": "python",
   "pygments_lexer": "ipython3",
   "version": "3.6.8"
  }
 },
 "nbformat": 4,
 "nbformat_minor": 2
}
