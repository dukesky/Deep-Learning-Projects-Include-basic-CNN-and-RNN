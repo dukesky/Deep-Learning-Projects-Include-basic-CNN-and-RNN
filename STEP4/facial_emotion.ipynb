{
 "cells": [
  {
   "cell_type": "code",
   "execution_count": 1,
   "metadata": {},
   "outputs": [
    {
     "name": "stderr",
     "output_type": "stream",
     "text": [
      "Using TensorFlow backend.\n"
     ]
    }
   ],
   "source": [
    "import numpy as np\n",
    "import pandas as dp\n",
    "import matplotlib.pyplot as plt\n",
    "from matplotlib import ticker\n",
    "import seaborn as sns\n",
    "import os,random\n",
    "import cv2\n",
    "import csv\n",
    "\n",
    "from sklearn.model_selection import train_test_split\n",
    "from sklearn.utils import class_weight\n",
    "from keras.models import Model\n",
    "from keras.models import Sequential\n",
    "from keras.layers import Input, Dropout, Flatten, Convolution2D, MaxPooling2D, Dense, Activation, Conv2D\n",
    "from keras.optimizers import RMSprop,SGD,Adagrad\n",
    "from keras.callbacks import ModelCheckpoint, Callback, EarlyStopping\n",
    "from keras.utils import np_utils\n",
    "from keras.preprocessing.image import ImageDataGenerator, array_to_img, img_to_array, load_img\n",
    "import pickle"
   ]
  },
  {
   "cell_type": "code",
   "execution_count": 4,
   "metadata": {},
   "outputs": [
    {
     "name": "stdout",
     "output_type": "stream",
     "text": [
      "Processed Row Data0 of 12993\n",
      "Processed Row Data2000 of 12993\n",
      "Processed Row Data4000 of 12993\n",
      "Processed Row Data6000 of 12993\n",
      "Processed Row Data8000 of 12993\n",
      "Processed Row Data10000 of 12993\n",
      "Processed Row Data12000 of 12993\n",
      "Data shape: (12993, 224, 224)\n"
     ]
    }
   ],
   "source": [
    "#load image data from file and labels\n",
    "#load labels\n",
    "# define 8 kind of emotion,defined as one hot label\n",
    "# anger-1    contempt-2    disgust-3   fear-4   happiness-5   neutral-6     sadness-7    surprise-8\n",
    "def labelconvert():\n",
    "    csv_file=csv.reader(open('train.csv','r'))\n",
    "    x=list(csv_file)\n",
    "    length=len(x)\n",
    "    onehot_labels=np.zeros((length,8))\n",
    "    labels=np.zeros((length))\n",
    "    for i in range (0,len(x)):\n",
    "        if (x[i][1]=='anger'):\n",
    "            onehot_labels[i][0]=1\n",
    "            labels[i]=0\n",
    "        elif (x[i][1]=='contempt'):\n",
    "            onehot_labels[i][1]=1\n",
    "            labels[i]=1\n",
    "        elif (x[i][1]=='disgust'):\n",
    "            onehot_labels[i][2]=1\n",
    "            labels[i]=2\n",
    "        elif (x[i][1]=='fear'):\n",
    "            onehot_labels[i][3]=1\n",
    "            labels[i]=3\n",
    "        elif (x[i][1]=='happiness'):\n",
    "            onehot_labels[i][4]=1\n",
    "            labels[i]=4\n",
    "        elif (x[i][1]=='neutral'):\n",
    "            onehot_labels[i][5]=1\n",
    "            labels[i]=5\n",
    "        elif (x[i][1]=='sadness'):\n",
    "            onehot_labels[i][6]=1\n",
    "            labels[i]=6\n",
    "        elif (x[i][1]=='surprise'):\n",
    "            onehot_labels[i][7]=1\n",
    "            labels[i]=7\n",
    "        else:\n",
    "            labels[i]=0\n",
    "    return onehot_labels,labels\n",
    "\n",
    "#load images data\n",
    "DATA_DIR='C:\\\\Users\\\\zhang\\\\Desktop\\\\EE599 coding\\\\HW4\\\\train_image\\\\'\n",
    "\n",
    "ROWS = 224\n",
    "COLS = 224\n",
    "CHANNELS = 1\n",
    "\n",
    "all_images = [DATA_DIR+i for i in os.listdir(DATA_DIR)] # use this for full dataset\n",
    "#test_images =  [DATA_DIR+i for i in os.listdir(DATA_DIR) if i>=10000]\n",
    "\n",
    "\n",
    "def read_image(file_path):\n",
    "    img = cv2.imread(file_path,cv2.IMREAD_GRAYSCALE) #cv2.IMREAD_GRAYSCALE\n",
    "    return cv2.resize(img, (ROWS, COLS), interpolation=cv2.INTER_CUBIC)\n",
    "\n",
    "def prep_data(images):\n",
    "    count = len(images)\n",
    "    data = np.ndarray((count,  ROWS, COLS), dtype=np.uint8)\n",
    "\n",
    "    for i, image_file in enumerate(images):\n",
    "        image = read_image(image_file)\n",
    "        data[i] = image\n",
    "        if i%2000 == 0: print('Processed Row Data{} of {}'.format(i, count))\n",
    "    \n",
    "    return data\n",
    "\n",
    "# get all data and labels, image data in 'data' array ,onehot labels in 'labels', number labels in 'num_labels'\n",
    "\n",
    "data= prep_data(all_images)\n",
    "labels,num_labels=labelconvert()\n",
    "\n",
    "print(\"Data shape: {}\".format(data.shape))"
   ]
  },
  {
   "cell_type": "code",
   "execution_count": 12,
   "metadata": {},
   "outputs": [],
   "source": [
    "np.savez_compressed('image_data.npz',data,labels)"
   ]
  },
  {
   "cell_type": "code",
   "execution_count": 6,
   "metadata": {},
   "outputs": [
    {
     "data": {
      "text/plain": [
       "array([ 239.,    8.,  197.,   19., 5408., 6520.,  253.,  349.])"
      ]
     },
     "execution_count": 6,
     "metadata": {},
     "output_type": "execute_result"
    }
   ],
   "source": [
    "# brief understanding of data\n",
    "average_fig=data.sum(axis=0)/data.shape[0]\n",
    "#plt.imshow(average_fig,cmap='gray')\n",
    "#plt.title('average face')\n",
    "#plt.show()\n",
    "labels.sum(axis=0)"
   ]
  },
  {
   "cell_type": "code",
   "execution_count": 7,
   "metadata": {},
   "outputs": [
    {
     "name": "stdout",
     "output_type": "stream",
     "text": [
      "Train shape: (8000, 224, 224)\n",
      "train labels distribution [ 138.    6.  127.   16. 3325. 3999.  163.  226.]\n",
      "Validation shape: (1000, 224, 224)\n",
      "test labels distribution [ 29.   0.  10.   0. 400. 516.  17.  28.]\n"
     ]
    }
   ],
   "source": [
    "# data prepocessing\n",
    "#include train/validaiton data seperation, balance data and augment data\n",
    "\n",
    "# train/validation seperate\n",
    "n_train=8000\n",
    "n_validation=1000\n",
    "\n",
    "train, val, train_labels, val_labels = train_test_split(data, labels, train_size=n_train,test_size=n_validation)\n",
    "print(\"Train shape: {}\".format(train.shape))\n",
    "print('train labels distribution',train_labels.sum(axis=0))\n",
    "print(\"Validation shape: {}\".format(val.shape))\n",
    "print('test labels distribution',val_labels.sum(axis=0))\n",
    "# data augmentation\n",
    "\n",
    "\n",
    "train_data=train.reshape(n_train,224,224,1)\n",
    "val_data=val.reshape(n_validation,224,224,1)\n",
    "#print(train_data.shape)\n",
    "#sns.countplot(train_labels)\n",
    "#sns.plttitle('Cats and Dogs')"
   ]
  },
  {
   "cell_type": "code",
   "execution_count": 8,
   "metadata": {},
   "outputs": [],
   "source": [
    "# show image\n",
    "anger= np.array([1,0,0,0,0,0,0,0])\n",
    "contempt= np.array([0,1,0,0,0,0,0,0])    \n",
    "disgust= np.array([0,0,1,0,0,0,0,0])   \n",
    "fear= np.array([0,0,0,1,0,0,0,0])    \n",
    "happiness= np.array([0,0,0,0,1,0,0,0])    \n",
    "neutral= np.array([0,0,0,0,0,1,0,0])      \n",
    "sadness= np.array([0,0,0,0,0,0,1,0])     \n",
    "surprise= np.array([0,0,0,0,0,0,0,1]) \n",
    "\n",
    "def show_face(dataset):\n",
    "    img = dataset\n",
    "    plt.imshow(img,cmap='gray')\n",
    "    plt.show()\n",
    "\n",
    "def show_face_compared(dataset1,idx1,dataset2,idx2):\n",
    "    img1=dataset1[idx1]\n",
    "    img2=dataset2[idx2]\n",
    "    pair = np.concatenate((img1, img2), axis=1)\n",
    "    plt.figure(figsize=(8,4))\n",
    "    plt.imshow(pair,cmap='gray')\n",
    "    plt.show()\n",
    "\n",
    "def show_label(label_test):\n",
    "    if (label_test==anger).all():\n",
    "        print('anger')\n",
    "    elif (label_test==contempt).all():\n",
    "        print('contempt')\n",
    "    elif (label_test==disgust).all():\n",
    "        print('disgust')\n",
    "    elif (label_test==fear).all():\n",
    "        print('fear')\n",
    "    elif (label_test==happiness).all():\n",
    "        print('happiness')\n",
    "    elif (label_test==neutral).all():\n",
    "        print('neutral')\n",
    "    elif (label_test==sadness).all():\n",
    "        print('sadness')\n",
    "    elif (label_test==surprise).all():\n",
    "        print('surprise')\n",
    "    else:\n",
    "        print('error')\n",
    "    \n",
    "### an example of figure show and label show    \n",
    "#for idx in range(0,1):\n",
    "#    show_face_compared(data,idx,train,idx)\n",
    "#    print(labels[idx],train_labels[idx])\n",
    "#    show_label(labels[idx])\n",
    "#    show_label(train_labels[idx])"
   ]
  },
  {
   "cell_type": "code",
   "execution_count": 9,
   "metadata": {},
   "outputs": [
    {
     "name": "stdout",
     "output_type": "stream",
     "text": [
      "_________________________________________________________________\n",
      "Layer (type)                 Output Shape              Param #   \n",
      "=================================================================\n",
      "conv2d_1 (Conv2D)            (None, 224, 224, 64)      640       \n",
      "_________________________________________________________________\n",
      "conv2d_2 (Conv2D)            (None, 224, 224, 64)      36928     \n",
      "_________________________________________________________________\n",
      "max_pooling2d_1 (MaxPooling2 (None, 112, 112, 64)      0         \n",
      "_________________________________________________________________\n",
      "conv2d_3 (Conv2D)            (None, 112, 112, 128)     73856     \n",
      "_________________________________________________________________\n",
      "conv2d_4 (Conv2D)            (None, 112, 112, 128)     147584    \n",
      "_________________________________________________________________\n",
      "max_pooling2d_2 (MaxPooling2 (None, 56, 56, 128)       0         \n",
      "_________________________________________________________________\n",
      "conv2d_5 (Conv2D)            (None, 56, 56, 256)       295168    \n",
      "_________________________________________________________________\n",
      "conv2d_6 (Conv2D)            (None, 56, 56, 256)       590080    \n",
      "_________________________________________________________________\n",
      "conv2d_7 (Conv2D)            (None, 56, 56, 256)       590080    \n",
      "_________________________________________________________________\n",
      "max_pooling2d_3 (MaxPooling2 (None, 28, 28, 256)       0         \n",
      "_________________________________________________________________\n",
      "conv2d_8 (Conv2D)            (None, 28, 28, 512)       1180160   \n",
      "_________________________________________________________________\n",
      "conv2d_9 (Conv2D)            (None, 28, 28, 512)       2359808   \n",
      "_________________________________________________________________\n",
      "conv2d_10 (Conv2D)           (None, 28, 28, 512)       2359808   \n",
      "_________________________________________________________________\n",
      "max_pooling2d_4 (MaxPooling2 (None, 14, 14, 512)       0         \n",
      "_________________________________________________________________\n",
      "conv2d_11 (Conv2D)           (None, 14, 14, 512)       2359808   \n",
      "_________________________________________________________________\n",
      "conv2d_12 (Conv2D)           (None, 14, 14, 512)       2359808   \n",
      "_________________________________________________________________\n",
      "conv2d_13 (Conv2D)           (None, 14, 14, 512)       2359808   \n",
      "_________________________________________________________________\n",
      "max_pooling2d_5 (MaxPooling2 (None, 7, 7, 512)         0         \n",
      "_________________________________________________________________\n",
      "flatten_1 (Flatten)          (None, 25088)             0         \n",
      "_________________________________________________________________\n",
      "dense_1 (Dense)              (None, 512)               12845568  \n",
      "_________________________________________________________________\n",
      "dropout_1 (Dropout)          (None, 512)               0         \n",
      "_________________________________________________________________\n",
      "dense_2 (Dense)              (None, 128)               65664     \n",
      "_________________________________________________________________\n",
      "dropout_2 (Dropout)          (None, 128)               0         \n",
      "_________________________________________________________________\n",
      "dense_3 (Dense)              (None, 8)                 1032      \n",
      "_________________________________________________________________\n",
      "activation_1 (Activation)    (None, 8)                 0         \n",
      "=================================================================\n",
      "Total params: 27,625,800\n",
      "Trainable params: 27,625,800\n",
      "Non-trainable params: 0\n",
      "_________________________________________________________________\n"
     ]
    }
   ],
   "source": [
    "\n",
    "# use VGG-16 to train model\n",
    "optimizer = RMSprop(lr=1e-4)\n",
    "objective = 'categorical_crossentropy'\n",
    "\n",
    "def model_VGG_16():\n",
    "    model = Sequential()\n",
    "\n",
    "    model.add(Conv2D(64, (3, 3), padding='same', input_shape=(ROWS, COLS,1), activation='relu'))\n",
    "    model.add(Conv2D(64, (3, 3), padding='same', activation='relu'))\n",
    "    model.add(MaxPooling2D(pool_size=(2, 2),padding='same'))\n",
    "\n",
    "    model.add(Conv2D(128, (3, 3), padding='same', activation='relu'))\n",
    "    model.add(Conv2D(128, (3, 3), padding='same', activation='relu'))\n",
    "    model.add(MaxPooling2D(pool_size=(2, 2)))\n",
    "    \n",
    "    model.add(Conv2D(256, (3, 3), padding='same', activation='relu'))\n",
    "    model.add(Conv2D(256, (3, 3), padding='same', activation='relu'))\n",
    "    model.add(Conv2D(256, (3, 3), padding='same', activation='relu'))\n",
    "    model.add(MaxPooling2D(pool_size=(2, 2)))\n",
    "    \n",
    "    model.add(Conv2D(512, (3, 3), padding='same', activation='relu'))\n",
    "    model.add(Conv2D(512, (3, 3), padding='same', activation='relu'))\n",
    "    model.add(Conv2D(512, (3, 3), padding='same', activation='relu'))\n",
    "    model.add(MaxPooling2D(pool_size=(2, 2)))\n",
    "\n",
    "    model.add(Conv2D(512, (3, 3), padding='same', activation='relu'))\n",
    "    model.add(Conv2D(512, (3, 3), padding='same', activation='relu'))\n",
    "    model.add(Conv2D(512, (3, 3), padding='same', activation='relu'))\n",
    "#     model.add(Convolution2D(256, 3, 3, border_mode='same', activation='relu'))\n",
    "    model.add(MaxPooling2D(pool_size=(2, 2)))\n",
    "\n",
    "    model.add(Flatten())\n",
    "    model.add(Dense(512, activation='relu'))\n",
    "    model.add(Dropout(0.5))\n",
    "    \n",
    "    model.add(Dense(128, activation='relu'))\n",
    "    model.add(Dropout(0.5))\n",
    "\n",
    "    model.add(Dense(8))\n",
    "    model.add(Activation('sigmoid'))\n",
    "\n",
    "    model.compile(loss=objective, optimizer=optimizer, metrics=['accuracy'])\n",
    "    return model\n",
    "\n",
    "\n",
    "def model_me():\n",
    "    model = Sequential()\n",
    "\n",
    "    model.add(Conv2D(32, (3, 3), padding='same', input_shape=(ROWS, COLS,1), activation='relu'))\n",
    "    model.add(Conv2D(32, (3, 3), padding='same', activation='relu'))\n",
    "    model.add(MaxPooling2D(pool_size=(2, 2),padding='same'))\n",
    "\n",
    "    model.add(Conv2D(64, (3, 3), padding='same', activation='relu'))\n",
    "    model.add(Conv2D(64, (3, 3), padding='same', activation='relu'))\n",
    "    model.add(MaxPooling2D(pool_size=(2, 2)))\n",
    "    \n",
    "    model.add(Conv2D(128, (3, 3), padding='same', activation='relu'))\n",
    "    model.add(Conv2D(128, (3, 3), padding='same', activation='relu'))\n",
    "#    model.add(Conv2D(256, (3, 3), padding='same', activation='relu'))\n",
    "    model.add(MaxPooling2D(pool_size=(2, 2)))\n",
    "    \n",
    "    model.add(Conv2D(256, (3, 3), padding='same', activation='relu'))\n",
    "    model.add(Conv2D(256, (3, 3), padding='same', activation='relu'))\n",
    "    model.add(Conv2D(256, (3, 3), padding='same', activation='relu'))\n",
    "    model.add(MaxPooling2D(pool_size=(2, 2)))\n",
    "\n",
    "    model.add(Conv2D(512, (3, 3), padding='same', activation='relu'))\n",
    "    model.add(Conv2D(512, (3, 3), padding='same', activation='relu'))\n",
    "    model.add(Conv2D(512, (3, 3), padding='same', activation='relu'))\n",
    "#     model.add(Convolution2D(256, 3, 3, border_mode='same', activation='relu'))\n",
    "    model.add(MaxPooling2D(pool_size=(2, 2)))\n",
    "\n",
    "    model.add(Flatten())\n",
    "    model.add(Dense(256, activation='relu'))\n",
    "    model.add(Dropout(0.5))\n",
    "    \n",
    "    model.add(Dense(256, activation='relu'))\n",
    "    model.add(Dropout(0.5))\n",
    "\n",
    "    model.add(Dense(8))\n",
    "    model.add(Activation('sigmoid'))\n",
    "\n",
    "    model.compile(loss=objective, optimizer=optimizer, metrics=['accuracy'])\n",
    "    return model\n",
    "\n",
    "def model_simple():\n",
    "    model = Sequential()\n",
    "\n",
    "    model.add(Conv2D(16, (3, 3), padding='same', input_shape=(ROWS, COLS,1), activation='relu'))\n",
    "    model.add(Conv2D(16, (3, 3), padding='same', activation='relu'))\n",
    "    model.add(MaxPooling2D(pool_size=(2, 2),padding='same'))\n",
    "\n",
    "    model.add(Conv2D(32, (3, 3), padding='same', activation='relu'))\n",
    "    model.add(Conv2D(32, (3, 3), padding='same', activation='relu'))\n",
    "    model.add(MaxPooling2D(pool_size=(2, 2)))\n",
    "    \n",
    "    model.add(Conv2D(64, (3, 3), padding='same', activation='relu'))\n",
    "    model.add(Conv2D(64, (3, 3), padding='same', activation='relu'))\n",
    "#    model.add(Conv2D(256, (3, 3), padding='same', activation='relu'))\n",
    "    model.add(MaxPooling2D(pool_size=(2, 2)))\n",
    "    \n",
    "    model.add(Conv2D(128, (3, 3), padding='same', activation='relu'))\n",
    "    model.add(Conv2D(128, (3, 3), padding='same', activation='relu'))\n",
    "    model.add(MaxPooling2D(pool_size=(2, 2)))\n",
    "\n",
    "    model.add(Flatten())\n",
    "    model.add(Dense(64, activation='relu'))\n",
    "    model.add(Dropout(0.5))\n",
    "    \n",
    "    model.add(Dense(64, activation='relu'))\n",
    "    model.add(Dropout(0.5))\n",
    "\n",
    "    model.add(Dense(8))\n",
    "    model.add(Activation('sigmoid'))\n",
    "\n",
    "    model.compile(loss=objective, optimizer=optimizer, metrics=['accuracy'])\n",
    "    return model\n",
    "\n",
    "model = model_VGG_16()\n",
    "model.summary()"
   ]
  },
  {
   "cell_type": "code",
   "execution_count": 10,
   "metadata": {},
   "outputs": [],
   "source": [
    "nb_epoch = 40\n",
    "batch_size = 20\n",
    "#cla_weights= class_weight.compute_class_weight('balanced',np.unique(num_labels),num_labels)\n",
    "## Callback for loss logging per epoch\n",
    "class LossHistory(Callback):\n",
    "    def on_train_begin(self, logs={}):\n",
    "        self.losses = []\n",
    "        self.val_losses = []\n",
    "        \n",
    "    def on_epoch_end(self, batch, logs={}):\n",
    "        self.losses.append(logs.get('loss'))\n",
    "        self.val_losses.append(logs.get('val_loss'))\n",
    "\n",
    "early_stopping = EarlyStopping(monitor='val_loss', patience=3, verbose=1, mode='auto')        \n",
    "        \n",
    "def run_facial():\n",
    "    \n",
    "    history = LossHistory()\n",
    "    model.fit(train_data, train_labels, batch_size=batch_size, epochs=nb_epoch,\n",
    "              validation_split=0.25, verbose=0, shuffle=True, callbacks=[history, early_stopping])\n",
    "              #validation_split=0.25, verbose=0, shuffle=True, callbacks=[history],class_weight=cla_weights)\n",
    "    \n",
    "\n",
    "    #predictions = model.predict(test, verbose=0)\n",
    "    return history\n",
    "\n",
    "def run_facial_balance():\n",
    "    history = LossHistory()\n",
    "    model.fit(train_new, train_labels_new, batch_size=batch_size, epochs=nb_epoch,\n",
    "              validation_split=0.25, verbose=0, shuffle=True, callbacks=[history, early_stopping])\n",
    "              #validation_split=0.25, verbose=0, shuffle=True, callbacks=[history],class_weight=cla_weights)\n",
    "    \n",
    "\n",
    "    #predictions = model.predict(test, verbose=0)\n",
    "    return history\n"
   ]
  },
  {
   "cell_type": "code",
   "execution_count": 11,
   "metadata": {},
   "outputs": [
    {
     "ename": "KeyboardInterrupt",
     "evalue": "",
     "output_type": "error",
     "traceback": [
      "\u001b[1;31m---------------------------------------------------------------------------\u001b[0m",
      "\u001b[1;31mKeyboardInterrupt\u001b[0m                         Traceback (most recent call last)",
      "\u001b[1;32m<ipython-input-11-90c91cdbb540>\u001b[0m in \u001b[0;36m<module>\u001b[1;34m\u001b[0m\n\u001b[0;32m      1\u001b[0m \u001b[1;31m# train model\u001b[0m\u001b[1;33m\u001b[0m\u001b[1;33m\u001b[0m\u001b[1;33m\u001b[0m\u001b[0m\n\u001b[1;32m----> 2\u001b[1;33m \u001b[0mhistory\u001b[0m \u001b[1;33m=\u001b[0m \u001b[0mrun_facial\u001b[0m\u001b[1;33m(\u001b[0m\u001b[1;33m)\u001b[0m\u001b[1;33m\u001b[0m\u001b[1;33m\u001b[0m\u001b[0m\n\u001b[0m\u001b[0;32m      3\u001b[0m \u001b[0mshow_lost_fig\u001b[0m\u001b[1;33m(\u001b[0m\u001b[1;33m)\u001b[0m\u001b[1;33m\u001b[0m\u001b[1;33m\u001b[0m\u001b[0m\n",
      "\u001b[1;32m<ipython-input-10-71196d36eb1d>\u001b[0m in \u001b[0;36mrun_facial\u001b[1;34m()\u001b[0m\n\u001b[0;32m     18\u001b[0m     \u001b[0mhistory\u001b[0m \u001b[1;33m=\u001b[0m \u001b[0mLossHistory\u001b[0m\u001b[1;33m(\u001b[0m\u001b[1;33m)\u001b[0m\u001b[1;33m\u001b[0m\u001b[1;33m\u001b[0m\u001b[0m\n\u001b[0;32m     19\u001b[0m     model.fit(train_data, train_labels, batch_size=batch_size, epochs=nb_epoch,\n\u001b[1;32m---> 20\u001b[1;33m               validation_split=0.25, verbose=0, shuffle=True, callbacks=[history, early_stopping])\n\u001b[0m\u001b[0;32m     21\u001b[0m               \u001b[1;31m#validation_split=0.25, verbose=0, shuffle=True, callbacks=[history],class_weight=cla_weights)\u001b[0m\u001b[1;33m\u001b[0m\u001b[1;33m\u001b[0m\u001b[1;33m\u001b[0m\u001b[0m\n\u001b[0;32m     22\u001b[0m \u001b[1;33m\u001b[0m\u001b[0m\n",
      "\u001b[1;32mD:\\Anaconda\\envs\\test_env_3.7\\lib\\site-packages\\keras\\engine\\training.py\u001b[0m in \u001b[0;36mfit\u001b[1;34m(self, x, y, batch_size, epochs, verbose, callbacks, validation_split, validation_data, shuffle, class_weight, sample_weight, initial_epoch, steps_per_epoch, validation_steps, **kwargs)\u001b[0m\n\u001b[0;32m   1037\u001b[0m                                         \u001b[0minitial_epoch\u001b[0m\u001b[1;33m=\u001b[0m\u001b[0minitial_epoch\u001b[0m\u001b[1;33m,\u001b[0m\u001b[1;33m\u001b[0m\u001b[1;33m\u001b[0m\u001b[0m\n\u001b[0;32m   1038\u001b[0m                                         \u001b[0msteps_per_epoch\u001b[0m\u001b[1;33m=\u001b[0m\u001b[0msteps_per_epoch\u001b[0m\u001b[1;33m,\u001b[0m\u001b[1;33m\u001b[0m\u001b[1;33m\u001b[0m\u001b[0m\n\u001b[1;32m-> 1039\u001b[1;33m                                         validation_steps=validation_steps)\n\u001b[0m\u001b[0;32m   1040\u001b[0m \u001b[1;33m\u001b[0m\u001b[0m\n\u001b[0;32m   1041\u001b[0m     def evaluate(self, x=None, y=None,\n",
      "\u001b[1;32mD:\\Anaconda\\envs\\test_env_3.7\\lib\\site-packages\\keras\\engine\\training_arrays.py\u001b[0m in \u001b[0;36mfit_loop\u001b[1;34m(model, f, ins, out_labels, batch_size, epochs, verbose, callbacks, val_f, val_ins, shuffle, callback_metrics, initial_epoch, steps_per_epoch, validation_steps)\u001b[0m\n\u001b[0;32m    197\u001b[0m                     \u001b[0mins_batch\u001b[0m\u001b[1;33m[\u001b[0m\u001b[0mi\u001b[0m\u001b[1;33m]\u001b[0m \u001b[1;33m=\u001b[0m \u001b[0mins_batch\u001b[0m\u001b[1;33m[\u001b[0m\u001b[0mi\u001b[0m\u001b[1;33m]\u001b[0m\u001b[1;33m.\u001b[0m\u001b[0mtoarray\u001b[0m\u001b[1;33m(\u001b[0m\u001b[1;33m)\u001b[0m\u001b[1;33m\u001b[0m\u001b[1;33m\u001b[0m\u001b[0m\n\u001b[0;32m    198\u001b[0m \u001b[1;33m\u001b[0m\u001b[0m\n\u001b[1;32m--> 199\u001b[1;33m                 \u001b[0mouts\u001b[0m \u001b[1;33m=\u001b[0m \u001b[0mf\u001b[0m\u001b[1;33m(\u001b[0m\u001b[0mins_batch\u001b[0m\u001b[1;33m)\u001b[0m\u001b[1;33m\u001b[0m\u001b[1;33m\u001b[0m\u001b[0m\n\u001b[0m\u001b[0;32m    200\u001b[0m                 \u001b[0mouts\u001b[0m \u001b[1;33m=\u001b[0m \u001b[0mto_list\u001b[0m\u001b[1;33m(\u001b[0m\u001b[0mouts\u001b[0m\u001b[1;33m)\u001b[0m\u001b[1;33m\u001b[0m\u001b[1;33m\u001b[0m\u001b[0m\n\u001b[0;32m    201\u001b[0m                 \u001b[1;32mfor\u001b[0m \u001b[0ml\u001b[0m\u001b[1;33m,\u001b[0m \u001b[0mo\u001b[0m \u001b[1;32min\u001b[0m \u001b[0mzip\u001b[0m\u001b[1;33m(\u001b[0m\u001b[0mout_labels\u001b[0m\u001b[1;33m,\u001b[0m \u001b[0mouts\u001b[0m\u001b[1;33m)\u001b[0m\u001b[1;33m:\u001b[0m\u001b[1;33m\u001b[0m\u001b[1;33m\u001b[0m\u001b[0m\n",
      "\u001b[1;32mD:\\Anaconda\\envs\\test_env_3.7\\lib\\site-packages\\keras\\backend\\tensorflow_backend.py\u001b[0m in \u001b[0;36m__call__\u001b[1;34m(self, inputs)\u001b[0m\n\u001b[0;32m   2713\u001b[0m                 \u001b[1;32mreturn\u001b[0m \u001b[0mself\u001b[0m\u001b[1;33m.\u001b[0m\u001b[0m_legacy_call\u001b[0m\u001b[1;33m(\u001b[0m\u001b[0minputs\u001b[0m\u001b[1;33m)\u001b[0m\u001b[1;33m\u001b[0m\u001b[1;33m\u001b[0m\u001b[0m\n\u001b[0;32m   2714\u001b[0m \u001b[1;33m\u001b[0m\u001b[0m\n\u001b[1;32m-> 2715\u001b[1;33m             \u001b[1;32mreturn\u001b[0m \u001b[0mself\u001b[0m\u001b[1;33m.\u001b[0m\u001b[0m_call\u001b[0m\u001b[1;33m(\u001b[0m\u001b[0minputs\u001b[0m\u001b[1;33m)\u001b[0m\u001b[1;33m\u001b[0m\u001b[1;33m\u001b[0m\u001b[0m\n\u001b[0m\u001b[0;32m   2716\u001b[0m         \u001b[1;32melse\u001b[0m\u001b[1;33m:\u001b[0m\u001b[1;33m\u001b[0m\u001b[1;33m\u001b[0m\u001b[0m\n\u001b[0;32m   2717\u001b[0m             \u001b[1;32mif\u001b[0m \u001b[0mpy_any\u001b[0m\u001b[1;33m(\u001b[0m\u001b[0mis_tensor\u001b[0m\u001b[1;33m(\u001b[0m\u001b[0mx\u001b[0m\u001b[1;33m)\u001b[0m \u001b[1;32mfor\u001b[0m \u001b[0mx\u001b[0m \u001b[1;32min\u001b[0m \u001b[0minputs\u001b[0m\u001b[1;33m)\u001b[0m\u001b[1;33m:\u001b[0m\u001b[1;33m\u001b[0m\u001b[1;33m\u001b[0m\u001b[0m\n",
      "\u001b[1;32mD:\\Anaconda\\envs\\test_env_3.7\\lib\\site-packages\\keras\\backend\\tensorflow_backend.py\u001b[0m in \u001b[0;36m_call\u001b[1;34m(self, inputs)\u001b[0m\n\u001b[0;32m   2673\u001b[0m             \u001b[0mfetched\u001b[0m \u001b[1;33m=\u001b[0m \u001b[0mself\u001b[0m\u001b[1;33m.\u001b[0m\u001b[0m_callable_fn\u001b[0m\u001b[1;33m(\u001b[0m\u001b[1;33m*\u001b[0m\u001b[0marray_vals\u001b[0m\u001b[1;33m,\u001b[0m \u001b[0mrun_metadata\u001b[0m\u001b[1;33m=\u001b[0m\u001b[0mself\u001b[0m\u001b[1;33m.\u001b[0m\u001b[0mrun_metadata\u001b[0m\u001b[1;33m)\u001b[0m\u001b[1;33m\u001b[0m\u001b[1;33m\u001b[0m\u001b[0m\n\u001b[0;32m   2674\u001b[0m         \u001b[1;32melse\u001b[0m\u001b[1;33m:\u001b[0m\u001b[1;33m\u001b[0m\u001b[1;33m\u001b[0m\u001b[0m\n\u001b[1;32m-> 2675\u001b[1;33m             \u001b[0mfetched\u001b[0m \u001b[1;33m=\u001b[0m \u001b[0mself\u001b[0m\u001b[1;33m.\u001b[0m\u001b[0m_callable_fn\u001b[0m\u001b[1;33m(\u001b[0m\u001b[1;33m*\u001b[0m\u001b[0marray_vals\u001b[0m\u001b[1;33m)\u001b[0m\u001b[1;33m\u001b[0m\u001b[1;33m\u001b[0m\u001b[0m\n\u001b[0m\u001b[0;32m   2676\u001b[0m         \u001b[1;32mreturn\u001b[0m \u001b[0mfetched\u001b[0m\u001b[1;33m[\u001b[0m\u001b[1;33m:\u001b[0m\u001b[0mlen\u001b[0m\u001b[1;33m(\u001b[0m\u001b[0mself\u001b[0m\u001b[1;33m.\u001b[0m\u001b[0moutputs\u001b[0m\u001b[1;33m)\u001b[0m\u001b[1;33m]\u001b[0m\u001b[1;33m\u001b[0m\u001b[1;33m\u001b[0m\u001b[0m\n\u001b[0;32m   2677\u001b[0m \u001b[1;33m\u001b[0m\u001b[0m\n",
      "\u001b[1;32mD:\\Anaconda\\envs\\test_env_3.7\\lib\\site-packages\\tensorflow\\python\\client\\session.py\u001b[0m in \u001b[0;36m__call__\u001b[1;34m(self, *args, **kwargs)\u001b[0m\n\u001b[0;32m   1437\u001b[0m           ret = tf_session.TF_SessionRunCallable(\n\u001b[0;32m   1438\u001b[0m               \u001b[0mself\u001b[0m\u001b[1;33m.\u001b[0m\u001b[0m_session\u001b[0m\u001b[1;33m.\u001b[0m\u001b[0m_session\u001b[0m\u001b[1;33m,\u001b[0m \u001b[0mself\u001b[0m\u001b[1;33m.\u001b[0m\u001b[0m_handle\u001b[0m\u001b[1;33m,\u001b[0m \u001b[0margs\u001b[0m\u001b[1;33m,\u001b[0m \u001b[0mstatus\u001b[0m\u001b[1;33m,\u001b[0m\u001b[1;33m\u001b[0m\u001b[1;33m\u001b[0m\u001b[0m\n\u001b[1;32m-> 1439\u001b[1;33m               run_metadata_ptr)\n\u001b[0m\u001b[0;32m   1440\u001b[0m         \u001b[1;32mif\u001b[0m \u001b[0mrun_metadata\u001b[0m\u001b[1;33m:\u001b[0m\u001b[1;33m\u001b[0m\u001b[1;33m\u001b[0m\u001b[0m\n\u001b[0;32m   1441\u001b[0m           \u001b[0mproto_data\u001b[0m \u001b[1;33m=\u001b[0m \u001b[0mtf_session\u001b[0m\u001b[1;33m.\u001b[0m\u001b[0mTF_GetBuffer\u001b[0m\u001b[1;33m(\u001b[0m\u001b[0mrun_metadata_ptr\u001b[0m\u001b[1;33m)\u001b[0m\u001b[1;33m\u001b[0m\u001b[1;33m\u001b[0m\u001b[0m\n",
      "\u001b[1;31mKeyboardInterrupt\u001b[0m: "
     ]
    }
   ],
   "source": [
    "# train model\n",
    "history = run_facial()\n",
    "show_lost_fig()"
   ]
  },
  {
   "cell_type": "code",
   "execution_count": null,
   "metadata": {},
   "outputs": [],
   "source": [
    "def show_lost_fig():\n",
    "    loss = history.losses\n",
    "    val_loss = history.val_losses\n",
    "\n",
    "    plt.xlabel('Epochs')\n",
    "    plt.ylabel('Loss')\n",
    "    plt.title('my model Loss Trend')\n",
    "    plt.plot(loss, 'blue', label='Training Loss')\n",
    "    plt.plot(val_loss, 'green', label='Validation Loss')\n",
    "    plt.xticks(range(0,nb_epoch)[0::2])\n",
    "    plt.legend()\n",
    "    plt.show()"
   ]
  },
  {
   "cell_type": "code",
   "execution_count": null,
   "metadata": {},
   "outputs": [],
   "source": [
    "val_predictions = model.predict(val_data, verbose=0)\n",
    "train_predictions=model.predict(train_data,verbose=0)\n",
    "all_predictions=model.predict(data.reshape(12993,224,224,1),verbose=0)\n",
    "#test_predictions=model.predict(test,verbose=0)"
   ]
  },
  {
   "cell_type": "code",
   "execution_count": null,
   "metadata": {},
   "outputs": [],
   "source": [
    "# test performance on test set(seperate of training part)\n",
    "# a full understanding of model accuracy and classfication\n",
    "\n",
    "def notsure(predictions):\n",
    "    n_notsure=0\n",
    "    for i in range (0,len(predictions)):\n",
    "        if (predictions[i]<0.7 and predictions[i]>0.3):\n",
    "            n_notsure+=1\n",
    "    notsure_per=n_notsure/len(predictions)\n",
    "    return notsure_per\n",
    "\n",
    "def get_hot_value(prediction_list):\n",
    "    hot_list=np.zeros((prediction_list.shape[0],prediction_list.shape[1]),int)\n",
    "    for i in range (0,len(prediction_list)):\n",
    "        max_val, hot_oneline, max_found = max(prediction_list[i]), [], False\n",
    "        for item in prediction_list[i]:\n",
    "            if item == max_val and not max_found:\n",
    "                hot_oneline.append(1)\n",
    "                max_found = True\n",
    "            else:\n",
    "                hot_oneline.append(0)\n",
    "        hot_list[i,:]=hot_oneline\n",
    "    return hot_list\n",
    "\n",
    "def detail(label,predictions):\n",
    "    n_right=0\n",
    "    n_wrong=0\n",
    "    pred_onehot=get_hot_value(predictions)\n",
    "    n_wrongclassified=np.zeros((predictions.shape[1]),int) #classified as a label(in predictions), but is not\n",
    "    n_rightclassified=np.zeros((predictions.shape[1]),int)\n",
    "    n_allclassified=pred_onehot.sum(axis=0)\n",
    "    n_alllabeled=label.sum(axis=0)\n",
    "    for i in range (0,len(predictions)):\n",
    "        if (label[i]==pred_onehot[i]).all():\n",
    "            n_right+=1\n",
    "            n_rightclassified+=pred_onehot[i]\n",
    "        else:\n",
    "            n_wrong+=1\n",
    "            n_wrongclassified+=pred_onehot[i]\n",
    "    accuracy=n_right/len(predictions)\n",
    "    return accuracy,n_wrongclassified,n_rightclassified,n_allclassified,n_alllabeled.astype(int)"
   ]
  },
  {
   "cell_type": "code",
   "execution_count": null,
   "metadata": {},
   "outputs": [],
   "source": [
    "## all detail in this model\n",
    "acc_all,n_wrc,n_ric,n_allc,n_alll=detail(labels,all_predictions)\n",
    "print('detail of all image')\n",
    "print('wrong prediction of each label',n_wrc)\n",
    "print('right prediction of each label',n_ric)\n",
    "print('prediction of each label      ',n_allc)\n",
    "print('true of each label            ',n_alll)\n",
    "print('the total accuracy is %f'%(acc_all))\n",
    "print('')\n",
    "\n",
    "## validation detail in this model\n",
    "accu=detail(val_labels,val_predictions)\n",
    "val_onehot=get_hot_value(val_predictions)\n",
    "print('detail of test image')\n",
    "print('the test accuracy is %f'%(accu[0]))\n",
    "print('')\n",
    "\n",
    "acc_train,train_wrc,train_ric,train_allc,train_alll=detail(train_labels,train_predictions)\n",
    "print('detail of training image')\n",
    "print('for training accuracy is %f' %acc_train)\n",
    "print('wrong prediction of train label',train_wrc)\n",
    "print('right prediction of train label',train_ric)\n",
    "print('prediction of train label      ',train_allc)\n",
    "print('true of train label            ',train_alll)"
   ]
  },
  {
   "cell_type": "code",
   "execution_count": 16,
   "metadata": {},
   "outputs": [],
   "source": [
    "##### balance data with generated new image of less class image\n",
    "### from the data we find that 1,2,3,4,7,8 class are less than 5,6, among them, 2,4 are far less.\n",
    "### to overcome inbalance data, we generate 1,3,7,8 each image into 20 other image, and we generate 2,4 each into 200 image.\n",
    "with open('C:\\\\Users\\\\zhang\\\\Desktop\\\\EE599 coding\\\\HW4\\\\sep.txt', 'rb') as fp:   # Unpickling\n",
    "    read_data = pickle.load(fp)\n",
    "#use some data as an example to begain generating\n"
   ]
  },
  {
   "cell_type": "code",
   "execution_count": 17,
   "metadata": {},
   "outputs": [],
   "source": [
    "anger=read_data[0]      # generate 5 times\n",
    "anger_labels=np.tile(np.array([1,0,0,0,0,0,0,0]), (len(anger),1))\n",
    "contempt=read_data[1]   # generate 100 times\n",
    "contempt_labels=np.tile(np.array([0,1,0,0,0,0,0,0]), (len(contempt),1))\n",
    "disgust=read_data[2]    # generate 5 times\n",
    "disgust_labels=np.tile(np.array([0,0,1,0,0,0,0,0]), (len(disgust),1))\n",
    "fear=read_data[3]       # generate 50 times\n",
    "fear_labels=np.tile(np.array([0,0,0,1,0,0,0,0]), (len(fear),1))\n",
    "happiness=read_data[4]  # get first 1500 data\n",
    "happiness_labels=np.tile(np.array([0,0,0,0,1,0,0,0]), (len(happiness),1))\n",
    "neutral=read_data[5]    # get first 1500 data\n",
    "neutral_labels=np.tile(np.array([0,0,0,0,0,1,0,0]), (len(neutral),1))\n",
    "sadness=read_data[6]    # generate 7 times\n",
    "sadness_labels=np.tile(np.array([0,0,0,0,0,0,1,0]), (len(sadness),1))\n",
    "surprise=read_data[7]   # generate 5 times\n",
    "surprise_labels=np.tile(np.array([0,0,0,0,0,0,0,1]), (len(surprise),1))"
   ]
  },
  {
   "cell_type": "code",
   "execution_count": 18,
   "metadata": {},
   "outputs": [],
   "source": [
    "datagen = ImageDataGenerator(\n",
    "            rotation_range=30,\n",
    "            width_shift_range=0.1,\n",
    "            height_shift_range=0.1,\n",
    "            shear_range=0.1,\n",
    "            horizontal_flip=True,\n",
    "            fill_mode='nearest')\n",
    "\n",
    "def data_gene(input_data,input_labels,epoch):\n",
    "    e=epoch\n",
    "    batches=0\n",
    "    gen_data=np.asarray(input_data).reshape(len(input_data),224,224,1)\n",
    "    gen_labels=np.asarray(input_labels)\n",
    "    for x_batch,y_batch in datagen.flow(input_data.reshape(len(input_data),224,224,1),input_labels, batch_size=len(input_data)):\n",
    "#            model.fit(x_batch, y_batch)\n",
    "            batches += 1\n",
    "            gen_data=np.vstack([gen_data,x_batch])\n",
    "            gen_labels=np.vstack([gen_labels,y_batch])\n",
    "            if batches >= e:\n",
    "                # we need to break the loop by hand because\n",
    "                # the generator loops indefinitely\n",
    "                break\n",
    "    return gen_data,gen_labels"
   ]
  },
  {
   "cell_type": "code",
   "execution_count": 19,
   "metadata": {},
   "outputs": [
    {
     "data": {
      "text/plain": [
       "(349, 224, 224)"
      ]
     },
     "execution_count": 19,
     "metadata": {},
     "output_type": "execute_result"
    }
   ],
   "source": []
  },
  {
   "cell_type": "code",
   "execution_count": 161,
   "metadata": {},
   "outputs": [],
   "source": [
    "# anger-1    contempt-2    disgust-3   fear-4   happiness-5   neutral-6     sadness-7    surprise-8\n",
    "anger_new,anger_labels_new=data_gene(anger,anger_labels,5)\n",
    "contempt_new,contempt_labels_new=data_gene(contempt,contempt_labels,100)\n",
    "disgust_new,disgust_labels_new=data_gene(disgust,disgust_labels,5)\n",
    "fear_new,fear_labels_new=data_gene(fear,fear_labels,50)\n",
    "happiness_new,happiness_labels_new=happiness.reshape(len(happiness),224,224,1),happiness_labels\n",
    "neutral_new,neutral_labels_new=neutral.reshape(len(neutral),224,224,1),neutral_labels\n",
    "sadness_new,sadness_labels_new=data_gene(sadness,sadness_labels,7)\n",
    "surprise_new,surprise_labels_new=data_gene(surprise,surprise_labels,5)"
   ]
  },
  {
   "cell_type": "code",
   "execution_count": 162,
   "metadata": {},
   "outputs": [],
   "source": [
    "data_new=np.concatenate((anger_new,contempt_new,disgust_new,fear_new,happiness_new,neutral_new,sadness_new,surprise_new), axis=0)\n",
    "labels_new=np.concatenate((anger_labels_new,contempt_labels_new,disgust_labels_new,fear_labels_new,happiness_labels_new,\n",
    "                           neutral_labels_new,sadness_labels_new,surprise_labels_new), axis=0)"
   ]
  },
  {
   "cell_type": "code",
   "execution_count": 165,
   "metadata": {},
   "outputs": [
    {
     "data": {
      "text/plain": [
       "array([1434,  808, 1182,  969, 4000, 4000, 2024, 2094])"
      ]
     },
     "execution_count": 165,
     "metadata": {},
     "output_type": "execute_result"
    }
   ],
   "source": [
    "np.savez('gene_image.npz', data_new, labels_new)"
   ]
  },
  {
   "cell_type": "code",
   "execution_count": 169,
   "metadata": {},
   "outputs": [
    {
     "data": {
      "text/plain": [
       "['arr_1', 'arr_0']"
      ]
     },
     "execution_count": 169,
     "metadata": {},
     "output_type": "execute_result"
    }
   ],
   "source": [
    "#npzfile = np.load(outfile)\n",
    "#npzfile.files\n",
    "['arr_1', 'arr_0']\n",
    "#npzfile['arr_0']"
   ]
  },
  {
   "cell_type": "code",
   "execution_count": 170,
   "metadata": {},
   "outputs": [
    {
     "name": "stdout",
     "output_type": "stream",
     "text": [
      "Epoch 00036: early stopping\n"
     ]
    },
    {
     "data": {
      "image/png": "[encoded data removed]",
      "text/plain": [
       "<Figure size 432x288 with 1 Axes>"
      ]
     },
     "metadata": {
      "needs_background": "light"
     },
     "output_type": "display_data"
    }
   ],
   "source": [
    "train_new, val_new, train_labels_new, val_labels_new = train_test_split(data_new, labels_new, train_size=n_train,test_size=n_validation)\n",
    "history = run_facial_balance()\n",
    "show_lost_fig()"
   ]
  },
  {
   "cell_type": "code",
   "execution_count": 171,
   "metadata": {},
   "outputs": [],
   "source": [
    "val_predictions = model.predict(val_data, verbose=0)\n",
    "train_predictions=model.predict(train_data,verbose=0)\n",
    "all_predictions=model.predict(data.reshape(12993,224,224,1),verbose=0)\n",
    "#test_predictions=model.predict(test,verbose=0)"
   ]
  },
  {
   "cell_type": "code",
   "execution_count": 172,
   "metadata": {},
   "outputs": [
    {
     "name": "stdout",
     "output_type": "stream",
     "text": [
      "detail of all image\n",
      "wrong prediction of each label [ 30   0  32   1 663 694 437 397]\n",
      "right prediction of each label [  27    0   34    1 4738 5635  129  175]\n",
      "prediction of each label       [  57    0   66    2 5401 6329  566  572]\n",
      "true of each label             [ 239    8  197   19 5408 6520  253  349]\n",
      "the total accuracy is 0.826522\n",
      "\n",
      "detail of test image\n",
      "wrong prediction of each label [ 2  0  5  0 57 48 37 40]\n",
      "right prediction of each label [  4   0   2   0 356 425   8  16]\n",
      "prediction of each label       [  6   0   7   0 413 473  45  56]\n",
      "true of each label             [ 19   0  20   2 407 506  18  28]\n",
      "the test accuracy is 0.811000\n",
      "\n"
     ]
    }
   ],
   "source": [
    "## all detail in this model\n",
    "acc_all,n_wrc,n_ric,n_allc,n_alll=detail(labels,all_predictions)\n",
    "print('detail of all image')\n",
    "print('wrong prediction of each label',n_wrc)\n",
    "print('right prediction of each label',n_ric)\n",
    "print('prediction of each label      ',n_allc)\n",
    "print('true of each label            ',n_alll)\n",
    "print('the total accuracy is %f'%(acc_all))\n",
    "print('')\n",
    "\n",
    "## validation detail in this model\n",
    "accu=detail(val_labels,val_predictions)\n",
    "print('detail of test image')\n",
    "print('wrong prediction of each label',accu[1])\n",
    "print('right prediction of each label',accu[2])\n",
    "print('prediction of each label      ',accu[3])\n",
    "print('true of each label            ',accu[4])\n",
    "print('the test accuracy is %f'%(accu[0]))\n",
    "print('')"
   ]
  },
  {
   "cell_type": "code",
   "execution_count": 174,
   "metadata": {},
   "outputs": [],
   "source": [
    "model.save('model_balanced2.h5')"
   ]
  }
 ],
 "metadata": {
  "kernelspec": {
   "display_name": "Python 3",
   "language": "python",
   "name": "python3"
  },
  "language_info": {
   "codemirror_mode": {
    "name": "ipython",
    "version": 3
   },
   "file_extension": ".py",
   "mimetype": "text/x-python",
   "name": "python",
   "nbconvert_exporter": "python",
   "pygments_lexer": "ipython3",
   "version": "3.6.8"
  }
 },
 "nbformat": 4,
 "nbformat_minor": 2
}
