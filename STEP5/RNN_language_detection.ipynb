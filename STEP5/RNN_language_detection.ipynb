{
 "cells": [
  {
   "cell_type": "code",
   "execution_count": 2,
   "metadata": {},
   "outputs": [
    {
     "name": "stderr",
     "output_type": "stream",
     "text": [
      "Using TensorFlow backend.\n"
     ]
    }
   ],
   "source": [
    "import librosa\n",
    "import matplotlib.pyplot as plt\n",
    "import keras\n",
    "from keras.models import Sequential,Model\n",
    "from keras import layers\n",
    "from keras.optimizers import RMSprop\n",
    "from keras.callbacks import ModelCheckpoint, Callback, EarlyStopping\n",
    "from keras.models import load_model\n",
    "import numpy as np\n",
    "import os\n",
    "from sklearn.model_selection import train_test_split"
   ]
  },
  {
   "cell_type": "markdown",
   "metadata": {},
   "source": [
    "# Proprocessing Data\n",
    "need to run for data prepare and train, test split"
   ]
  },
  {
   "cell_type": "code",
   "execution_count": 2,
   "metadata": {},
   "outputs": [],
   "source": [
    "# each data has a sequence less than 60000\n",
    "ENG_DIR='D:\\\\usc study\\\\4th semester\\\\EE599 Deep learning\\\\EE599_coding\\\\HW5\\\\train\\\\english\\\\'\n",
    "HIN_DIR='D:\\\\usc study\\\\4th semester\\\\EE599 Deep learning\\\\EE599_coding\\\\HW5\\\\train\\\\hindi\\\\'\n",
    "CHN_DIR='D:\\\\usc study\\\\4th semester\\\\EE599 Deep learning\\\\EE599_coding\\\\HW5\\\\train\\\\mandarin\\\\'\n",
    "\n",
    "def load_voicedata(num_eng,num_chn,num_hin,length):\n",
    "    eng_data=np.zeros((num_eng,64,length),dtype=float)\n",
    "    eng_labels=np.zeros((num_eng,1),dtype=float)\n",
    "    chn_data=np.zeros((num_chn,64,length),dtype=float)\n",
    "    chn_labels=np.ones((num_chn,1),dtype=float)*2\n",
    "    hin_data=np.zeros((num_hin,64,length),dtype=float)\n",
    "    hin_labels=np.ones((num_hin,1),dtype=float)\n",
    "    eng_voice = [ENG_DIR+i for i in os.listdir(ENG_DIR)]\n",
    "    chn_voice = [CHN_DIR+i for i in os.listdir(CHN_DIR)]\n",
    "    hin_voice = [HIN_DIR+i for i in os.listdir(HIN_DIR)]\n",
    "    for i,eng_file in enumerate(eng_voice):\n",
    "        read_data=np.load(eng_file)\n",
    "        eng_data[i]=read_data[:,:length]\n",
    "        if i==num_eng-1:\n",
    "            break\n",
    "    print('finished preparing english data')\n",
    "    for i,chn_file in enumerate(chn_voice):\n",
    "        read_data=np.load(chn_file)\n",
    "        chn_data[i]=read_data[:,:length]\n",
    "        if i==num_chn-1:\n",
    "            break\n",
    "    print('finished preparing madarin data')\n",
    "    for i,hin_file in enumerate(hin_voice):\n",
    "        read_data=np.load(hin_file)\n",
    "        hin_data[i]=read_data[:,:length]\n",
    "        if i==num_hin-1:\n",
    "            break\n",
    "    print('finished preparing hindi data')\n",
    "    data=np.concatenate((eng_data,chn_data,hin_data),axis=0)\n",
    "    labels=np.concatenate((eng_labels,chn_labels,hin_labels),axis=0)\n",
    "    print('finished preparing data')\n",
    "    print('data size',data.shape)\n",
    "    return data,labels\n",
    "    "
   ]
  },
  {
   "cell_type": "code",
   "execution_count": 3,
   "metadata": {},
   "outputs": [
    {
     "name": "stdout",
     "output_type": "stream",
     "text": [
      "finished preparing english data\n",
      "finished preparing madarin data\n",
      "finished preparing hindi data\n",
      "finished preparing data\n",
      "data size (120, 64, 20000)\n"
     ]
    }
   ],
   "source": [
    "data,labels=load_voicedata(60,40,20,20000)"
   ]
  },
  {
   "cell_type": "code",
   "execution_count": 4,
   "metadata": {},
   "outputs": [],
   "source": [
    "def data_preprocessing(input_data,input_labels):\n",
    "    data_mean_mid=input_data.mean(axis=0)\n",
    "    data_mean=data_mean_mid.mean(axis=1)\n",
    "    data_std_mid=input_data.std(axis=0)\n",
    "    data_std=data_std_mid.std(axis=1)\n",
    "    output_data=input_data\n",
    "    for i in range (0,len(input_data)):\n",
    "        for j in range (0,input_data.shape[2]):\n",
    "            output_data[i,:,j]-=data_mean\n",
    "            output_data[i,:,j]=output_data[i,:,j]/data_std\n",
    "#    output_data=(input_data-data_mean)/data_std\n",
    "    output_labels=np.zeros((len(input_data),3),dtype=float)\n",
    "    for i in range (0,len(input_data)):\n",
    "        if input_labels[i]==0:\n",
    "            output_labels[i,0]=1\n",
    "        elif input_labels[i]==1:\n",
    "            output_labels[i,1]=1\n",
    "        else:\n",
    "            output_labels[i,2]=1\n",
    "    print('finish data preprocessing, get standard data and one hot labels')\n",
    "    return output_data,output_labels"
   ]
  },
  {
   "cell_type": "code",
   "execution_count": 6,
   "metadata": {},
   "outputs": [
    {
     "name": "stdout",
     "output_type": "stream",
     "text": [
      "finish data preprocessing, get standard data and one hot labels\n"
     ]
    }
   ],
   "source": [
    "all_data,all_labels=data_preprocessing(data,labels)"
   ]
  },
  {
   "cell_type": "code",
   "execution_count": 7,
   "metadata": {},
   "outputs": [],
   "source": [
    "# seperate full length of 50000 sequence into a simple length, and seperate to gene_times apart, try each_length=1000(10s), generate 20 times\n",
    "def data_generator(input_data,input_labels,each_length,gene_times):\n",
    "    gene_data=np.zeros((len(input_data)*gene_times,64,each_length),dtype=float)\n",
    "    gene_labels=np.zeros((len(input_data)*gene_times,3),dtype=float)\n",
    "    for i in range (0,len(input_data)):\n",
    "        for j in range (0,gene_times):\n",
    "            gene_data[i*gene_times+j]=input_data[i,:,j*(each_length+100):j*(each_length+100)+each_length]\n",
    "            gene_labels[i*gene_times+j]=input_labels[i]\n",
    "    \n",
    "    return gene_data,gene_labels\n",
    "    "
   ]
  },
  {
   "cell_type": "code",
   "execution_count": 8,
   "metadata": {},
   "outputs": [
    {
     "name": "stdout",
     "output_type": "stream",
     "text": [
      "train size: (2500, 64, 600)\n"
     ]
    }
   ],
   "source": [
    "gene_data,gene_labels=data_generator(all_data,all_labels,each_length=600,gene_times=25)\n",
    "gene_data=np.reshape(gene_data,(len(gene_data),600,64))\n",
    "train_data,val_data,train_labels,val_labels=train_test_split(gene_data,gene_labels,test_size=0.1666)\n",
    "print('train size:',train_data.shape,'label size:',train_labels.shape)"
   ]
  },
  {
   "cell_type": "code",
   "execution_count": 21,
   "metadata": {},
   "outputs": [],
   "source": [
    "def show_plot():\n",
    "    loss = history.history['loss']\n",
    "    val_loss = history.history['val_loss']\n",
    "\n",
    "    epochs = range(len(loss))\n",
    "\n",
    "    plt.figure()\n",
    "\n",
    "    plt.plot(epochs, loss, 'bo', label='Training loss')\n",
    "    plt.plot(epochs, val_loss, 'b', label='Validation loss')\n",
    "    plt.title('Training and validation loss')\n",
    "    plt.legend()\n",
    "\n",
    "    plt.show()\n",
    "\n",
    "def get_hot_value(prediction_list):\n",
    "    hot_list=np.zeros((prediction_list.shape[0],prediction_list.shape[1]),int)\n",
    "    for i in range (0,len(prediction_list)):\n",
    "        max_val, hot_oneline, max_found = max(prediction_list[i]), [], False\n",
    "        for item in prediction_list[i]:\n",
    "            if item == max_val and not max_found:\n",
    "                hot_oneline.append(1)\n",
    "                max_found = True\n",
    "            else:\n",
    "                hot_oneline.append(0)\n",
    "        hot_list[i,:]=hot_oneline\n",
    "    return hot_list\n",
    "\n",
    "def detail(label,predictions):\n",
    "    n_right=0\n",
    "    n_wrong=0\n",
    "    pred_onehot=get_hot_value(predictions)\n",
    "    n_wrongclassified=np.zeros((predictions.shape[1]),int) #classified as a label(in predictions), but is not\n",
    "    n_rightclassified=np.zeros((predictions.shape[1]),int)\n",
    "    n_allclassified=pred_onehot.sum(axis=0)\n",
    "    n_alllabeled=label.sum(axis=0)\n",
    "    for i in range (0,len(predictions)):\n",
    "        if (label[i]==pred_onehot[i]).all():\n",
    "            n_right+=1\n",
    "            n_rightclassified+=pred_onehot[i]\n",
    "        else:\n",
    "            n_wrong+=1\n",
    "            n_wrongclassified+=pred_onehot[i]\n",
    "    accuracy=n_right/len(predictions)\n",
    "    return accuracy,n_wrongclassified,n_rightclassified,n_allclassified,n_alllabeled.astype(int)\n",
    "def performance():\n",
    "    prediction=model.predict(val_data,verbose=0)\n",
    "    prediction=prediction.sum()\n",
    "    accu=detail(val_labels,prediction)\n",
    "    print('detail of training image')\n",
    "    print('for test accuracy is %f' %accu[0])\n",
    "    print('wrong prediction of train label',accu[1])\n",
    "    print('right prediction of train label',accu[2])\n",
    "    print('prediction of train label      ',accu[3])\n",
    "    print('true of train label            ',accu[4])\n",
    "    show_plot()\n",
    "    return prediction,accu"
   ]
  },
  {
   "cell_type": "markdown",
   "metadata": {},
   "source": [
    "# model implement and training\n",
    "dont't need to run if only test implemented model"
   ]
  },
  {
   "cell_type": "code",
   "execution_count": 35,
   "metadata": {},
   "outputs": [
    {
     "name": "stdout",
     "output_type": "stream",
     "text": [
      "_________________________________________________________________\n",
      "Layer (type)                 Output Shape              Param #   \n",
      "=================================================================\n",
      "lstm_13 (LSTM)               (None, None, 32)          12416     \n",
      "_________________________________________________________________\n",
      "lstm_14 (LSTM)               (None, None, 4)           592       \n",
      "_________________________________________________________________\n",
      "time_distributed_2 (TimeDist (None, None, 32)          160       \n",
      "_________________________________________________________________\n",
      "dense_7 (Dense)              (None, None, 3)           99        \n",
      "=================================================================\n",
      "Total params: 13,267\n",
      "Trainable params: 13,267\n",
      "Non-trainable params: 0\n",
      "_________________________________________________________________\n"
     ]
    }
   ],
   "source": [
    "def model_LSTM():\n",
    "    model = Sequential()\n",
    "    model.add(layers.LSTM(32,\n",
    "                     dropout=0.1,\n",
    "                     recurrent_dropout=0.5,\n",
    "                     return_sequences=True,\n",
    "                     input_shape=(None,64)))\n",
    "    model.add(layers.LSTM(4,\n",
    "                     dropout=0.3,\n",
    "                     recurrent_dropout=0.5,\n",
    "                     return_sequences=True))\n",
    "#    model.add(layers.Flatten())\n",
    "    model.add(layers.TimeDistributed(layers.Dense(activation='relu', \n",
    "                                units=32)))\n",
    "#    model.add(layers.Dense(16,activation='relu'))\n",
    "#    model.add(layers.Flatten())\n",
    "    model.add(layers.Dense(3,activation='softmax'))\n",
    "#    model.add(Activation('sigmoid'))\n",
    "    return model \n",
    "\n",
    "model=model_LSTM()\n",
    "model.summary()"
   ]
  },
  {
   "cell_type": "code",
   "execution_count": 36,
   "metadata": {},
   "outputs": [
    {
     "name": "stdout",
     "output_type": "stream",
     "text": [
      "input data shape: (2500, 600, 64) input label shape: (2500, 3)\n",
      "Train on 2000 samples, validate on 500 samples\n",
      "Epoch 1/10\n",
      "2000/2000 [==============================] - 190s 95ms/step - loss: 1.0464 - val_loss: 1.0487\n",
      "Epoch 2/10\n",
      "2000/2000 [==============================] - 191s 96ms/step - loss: 1.0172 - val_loss: 1.0436\n",
      "Epoch 3/10\n",
      "2000/2000 [==============================] - 192s 96ms/step - loss: 1.0118 - val_loss: 1.0441\n",
      "Epoch 4/10\n",
      "2000/2000 [==============================] - 196s 98ms/step - loss: 1.0096 - val_loss: 1.0465\n",
      "Epoch 00004: early stopping\n"
     ]
    }
   ],
   "source": [
    "n_batch=32\n",
    "n_epoch=10\n",
    "#train_data_new=train_data.reshape(1200,1,1,64, 600)\n",
    "train_labels_re=np.reshape(train_labels,(train_labels.shape[0],1,3))\n",
    "train_data_re=train_data.reshape(train_data.shape[0],train_data.shape[2],train_data.shape[1])\n",
    "print('input data shape:',train_data_re.shape,'input label shape:',train_labels.shape,'batch size',n_batch)\n",
    "model.compile(optimizer=RMSprop(), loss='categorical_crossentropy')\n",
    "\n",
    "\n",
    "early_stopping = EarlyStopping(monitor='val_loss', patience=2, verbose=1, mode='auto') \n",
    "\n",
    "history=model.fit(train_data_re,train_labels_re,epochs=n_epoch,batch_size=n_batch,\n",
    "                    validation_split=0.2,callbacks=[history,early_stopping])"
   ]
  },
  {
   "cell_type": "markdown",
   "metadata": {},
   "source": [
    "# test model performance\n",
    "if need to test uploaded model, uncommit the first line \n",
    "> model=load_model('hw5_LSTM.h5')\n",
    "\n",
    ">detail() function show all performance of test model"
   ]
  },
  {
   "cell_type": "code",
   "execution_count": 4,
   "metadata": {},
   "outputs": [],
   "source": [
    "#model=load_model('hw5_LSTM.h5')\n",
    "val_data=np.reshape(val_data,(val_data.shape[0],600,64))\n",
    "prediction=model.predict(val_data,verbose=0)\n",
    "prediction=prediction.mean(axis=1)\n",
    "accu=detail(val_labels,prediction)\n",
    "print('detail of training image')\n",
    "print('for test accuracy is %f' %accu[0])\n",
    "print('wrong prediction of train label',accu[1])\n",
    "print('right prediction of train label',accu[2])\n",
    "print('prediction of train label      ',accu[3])\n",
    "print('true of train label            ',accu[4])\n",
    "show_plot()"
   ]
  },
  {
   "cell_type": "code",
   "execution_count": 23,
   "metadata": {},
   "outputs": [],
   "source": [
    "#model.save('hw5_LSTM_new.h5')"
   ]
  }
 ],
 "metadata": {
  "kernelspec": {
   "display_name": "Python 3",
   "language": "python",
   "name": "python3"
  },
  "language_info": {
   "codemirror_mode": {
    "name": "ipython",
    "version": 3
   },
   "file_extension": ".py",
   "mimetype": "text/x-python",
   "name": "python",
   "nbconvert_exporter": "python",
   "pygments_lexer": "ipython3",
   "version": "3.6.8"
  }
 },
 "nbformat": 4,
 "nbformat_minor": 2
}
